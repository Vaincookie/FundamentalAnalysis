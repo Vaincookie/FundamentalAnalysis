{
  "nbformat": 4,
  "nbformat_minor": 0,
  "metadata": {
    "colab": {
      "name": "Transformer.ipynb",
      "provenance": [],
      "collapsed_sections": [],
      "machine_shape": "hm",
      "mount_file_id": "17wA5ETCJA7QfiuB9XyDgcRn-f0Me54NY",
      "authorship_tag": "ABX9TyNUHYl6Fid4VSwh6qmHD5hS",
      "include_colab_link": true
    },
    "kernelspec": {
      "name": "python3",
      "display_name": "Python 3"
    },
    "language_info": {
      "name": "python"
    },
    "accelerator": "GPU"
  },
  "cells": [
    {
      "cell_type": "markdown",
      "metadata": {
        "id": "view-in-github",
        "colab_type": "text"
      },
      "source": [
        "<a href=\"https://colab.research.google.com/github/Vaincookie/FundamentalAnalysis/blob/master/Transformer.ipynb\" target=\"_parent\"><img src=\"https://colab.research.google.com/assets/colab-badge.svg\" alt=\"Open In Colab\"/></a>"
      ]
    },
    {
      "cell_type": "code",
      "metadata": {
        "colab": {
          "base_uri": "https://localhost:8080/"
        },
        "id": "vrYc5JgZS3o8",
        "outputId": "9fde1e95-991a-4443-d660-7c7c55f06997"
      },
      "source": [
        "!pip install pytorch_lightning\n",
        "import pytorch_lightning as pl\n",
        "import torch\n",
        "import torch.nn as nn\n",
        "from torch.nn import Linear\n",
        "'''\n",
        "我们将使用的模型是一个编码器-解码器的Transformer，其中编码器部分将时间序列的历史作为输入，而解码器部分以自回归的方式预测未来的值。\n",
        "\n",
        "解码器使用注意力机制与编码器连接。通过这种方式，解码器可以学习在做出预测之前“关注”时间序列历史值中最有用的部分。\n",
        "\n",
        "解码器使用了掩蔽的自注意力，这样网络就不会在训练期间获取未来的值，不会导致信息的泄露。\n",
        "https://zhuanlan.zhihu.com/p/372668675\n",
        "'''\n",
        "\n",
        "def smape_loss(y_pred, target):\n",
        "    loss = 2 * (y_pred - target).abs() / (y_pred.abs() + target.abs() + 1e-8)\n",
        "    return loss.mean()\n",
        "\n",
        "\n",
        "def gen_trg_mask(length, device):\n",
        "    mask = torch.tril(torch.ones(length, length, device=device)) == 1\n",
        "\n",
        "    mask = (\n",
        "        mask.float()\n",
        "        .masked_fill(mask == 0, float(\"-inf\"))\n",
        "        .masked_fill(mask == 1, float(0.0))\n",
        "    )\n",
        "\n",
        "    return mask\n",
        "\n",
        "\n",
        "class TimeSeriesForcasting(nn.Module):\n",
        "    def __init__(\n",
        "        self,\n",
        "        n_encoder_inputs,\n",
        "        n_decoder_inputs,\n",
        "        channels=512,\n",
        "        dropout=0.1,\n",
        "        lr=1e-5,\n",
        "    ):\n",
        "        super().__init__()\n",
        "\n",
        "\n",
        "        self.lr = lr\n",
        "        self.dropout = dropout\n",
        "\n",
        "        self.input_pos_embedding = torch.nn.Embedding(1024, embedding_dim=channels)\n",
        "        self.target_pos_embedding = torch.nn.Embedding(1024, embedding_dim=channels)\n",
        "\n",
        "        encoder_layer = nn.TransformerEncoderLayer(\n",
        "            d_model=channels,\n",
        "            nhead=8,\n",
        "            dropout=self.dropout,\n",
        "            dim_feedforward=4 * channels,\n",
        "        )\n",
        "        decoder_layer = nn.TransformerDecoderLayer(\n",
        "            d_model=channels,\n",
        "            nhead=8,\n",
        "            dropout=self.dropout,\n",
        "            dim_feedforward=4 * channels,\n",
        "        )\n",
        "\n",
        "        self.encoder = torch.nn.TransformerEncoder(encoder_layer, num_layers=8)\n",
        "        self.decoder = torch.nn.TransformerDecoder(decoder_layer, num_layers=8)\n",
        "\n",
        "        self.input_projection = Linear(n_encoder_inputs, channels)\n",
        "        self.output_projection = Linear(n_decoder_inputs, channels)\n",
        "\n",
        "        self.linear = Linear(channels, 1)\n",
        "\n",
        "        self.do = nn.Dropout(p=self.dropout)\n",
        "\n",
        "    def encode_src(self, src):\n",
        "        src_start = self.input_projection(src).permute(1, 0, 2)\n",
        "\n",
        "        in_sequence_len, batch_size = src_start.size(0), src_start.size(1)\n",
        "        pos_encoder = (\n",
        "            torch.arange(0, in_sequence_len, device=src.device)\n",
        "            .unsqueeze(0)\n",
        "            .repeat(batch_size, 1)\n",
        "        )\n",
        "\n",
        "        pos_encoder = self.input_pos_embedding(pos_encoder).permute(1, 0, 2)\n",
        "\n",
        "        src = src_start + pos_encoder\n",
        "\n",
        "        src = self.encoder(src) + src_start\n",
        "\n",
        "        return src\n",
        "\n",
        "    def decode_trg(self, trg, memory):\n",
        "\n",
        "        trg_start = self.output_projection(trg).permute(1, 0, 2)\n",
        "\n",
        "        out_sequence_len, batch_size = trg_start.size(0), trg_start.size(1)\n",
        "\n",
        "        pos_decoder = (\n",
        "            torch.arange(0, out_sequence_len, device=trg.device)\n",
        "            .unsqueeze(0)\n",
        "            .repeat(batch_size, 1)\n",
        "        )\n",
        "        pos_decoder = self.target_pos_embedding(pos_decoder).permute(1, 0, 2)\n",
        "\n",
        "        trg = pos_decoder + trg_start\n",
        "\n",
        "        trg_mask = gen_trg_mask(out_sequence_len, trg.device)\n",
        "\n",
        "        out = self.decoder(tgt=trg, memory=memory, tgt_mask=trg_mask) + trg_start\n",
        "\n",
        "        out = out.permute(1, 0, 2)\n",
        "\n",
        "        out = self.linear(out)\n",
        "\n",
        "        return out\n",
        "\n",
        "    def forward(self, x):\n",
        "        src, trg = x\n",
        "\n",
        "        src = self.encode_src(src)\n",
        "\n",
        "        out = self.decode_trg(trg=trg, memory=src)\n",
        "\n",
        "        return out\n"
      ],
      "execution_count": 1,
      "outputs": [
        {
          "output_type": "stream",
          "name": "stdout",
          "text": [
            "Requirement already satisfied: pytorch_lightning in /usr/local/lib/python3.7/dist-packages (1.5.4)\n",
            "Requirement already satisfied: fsspec[http]!=2021.06.0,>=2021.05.0 in /usr/local/lib/python3.7/dist-packages (from pytorch_lightning) (2021.11.1)\n",
            "Requirement already satisfied: torch>=1.7.* in /usr/local/lib/python3.7/dist-packages (from pytorch_lightning) (1.10.0+cu111)\n",
            "Requirement already satisfied: tensorboard>=2.2.0 in /usr/local/lib/python3.7/dist-packages (from pytorch_lightning) (2.7.0)\n",
            "Requirement already satisfied: typing-extensions in /usr/local/lib/python3.7/dist-packages (from pytorch_lightning) (3.10.0.2)\n",
            "Requirement already satisfied: packaging>=17.0 in /usr/local/lib/python3.7/dist-packages (from pytorch_lightning) (21.3)\n",
            "Requirement already satisfied: tqdm>=4.41.0 in /usr/local/lib/python3.7/dist-packages (from pytorch_lightning) (4.62.3)\n",
            "Requirement already satisfied: numpy>=1.17.2 in /usr/local/lib/python3.7/dist-packages (from pytorch_lightning) (1.19.5)\n",
            "Requirement already satisfied: PyYAML>=5.1 in /usr/local/lib/python3.7/dist-packages (from pytorch_lightning) (6.0)\n",
            "Requirement already satisfied: torchmetrics>=0.4.1 in /usr/local/lib/python3.7/dist-packages (from pytorch_lightning) (0.6.0)\n",
            "Requirement already satisfied: pyDeprecate==0.3.1 in /usr/local/lib/python3.7/dist-packages (from pytorch_lightning) (0.3.1)\n",
            "Requirement already satisfied: future>=0.17.1 in /usr/local/lib/python3.7/dist-packages (from pytorch_lightning) (0.18.2)\n",
            "Requirement already satisfied: aiohttp in /usr/local/lib/python3.7/dist-packages (from fsspec[http]!=2021.06.0,>=2021.05.0->pytorch_lightning) (3.8.1)\n",
            "Requirement already satisfied: requests in /usr/local/lib/python3.7/dist-packages (from fsspec[http]!=2021.06.0,>=2021.05.0->pytorch_lightning) (2.23.0)\n",
            "Requirement already satisfied: pyparsing!=3.0.5,>=2.0.2 in /usr/local/lib/python3.7/dist-packages (from packaging>=17.0->pytorch_lightning) (3.0.6)\n",
            "Requirement already satisfied: werkzeug>=0.11.15 in /usr/local/lib/python3.7/dist-packages (from tensorboard>=2.2.0->pytorch_lightning) (1.0.1)\n",
            "Requirement already satisfied: grpcio>=1.24.3 in /usr/local/lib/python3.7/dist-packages (from tensorboard>=2.2.0->pytorch_lightning) (1.42.0)\n",
            "Requirement already satisfied: tensorboard-data-server<0.7.0,>=0.6.0 in /usr/local/lib/python3.7/dist-packages (from tensorboard>=2.2.0->pytorch_lightning) (0.6.1)\n",
            "Requirement already satisfied: setuptools>=41.0.0 in /usr/local/lib/python3.7/dist-packages (from tensorboard>=2.2.0->pytorch_lightning) (57.4.0)\n",
            "Requirement already satisfied: absl-py>=0.4 in /usr/local/lib/python3.7/dist-packages (from tensorboard>=2.2.0->pytorch_lightning) (0.12.0)\n",
            "Requirement already satisfied: wheel>=0.26 in /usr/local/lib/python3.7/dist-packages (from tensorboard>=2.2.0->pytorch_lightning) (0.37.0)\n",
            "Requirement already satisfied: google-auth<3,>=1.6.3 in /usr/local/lib/python3.7/dist-packages (from tensorboard>=2.2.0->pytorch_lightning) (1.35.0)\n",
            "Requirement already satisfied: markdown>=2.6.8 in /usr/local/lib/python3.7/dist-packages (from tensorboard>=2.2.0->pytorch_lightning) (3.3.6)\n",
            "Requirement already satisfied: tensorboard-plugin-wit>=1.6.0 in /usr/local/lib/python3.7/dist-packages (from tensorboard>=2.2.0->pytorch_lightning) (1.8.0)\n",
            "Requirement already satisfied: protobuf>=3.6.0 in /usr/local/lib/python3.7/dist-packages (from tensorboard>=2.2.0->pytorch_lightning) (3.17.3)\n",
            "Requirement already satisfied: google-auth-oauthlib<0.5,>=0.4.1 in /usr/local/lib/python3.7/dist-packages (from tensorboard>=2.2.0->pytorch_lightning) (0.4.6)\n",
            "Requirement already satisfied: six in /usr/local/lib/python3.7/dist-packages (from absl-py>=0.4->tensorboard>=2.2.0->pytorch_lightning) (1.15.0)\n",
            "Requirement already satisfied: pyasn1-modules>=0.2.1 in /usr/local/lib/python3.7/dist-packages (from google-auth<3,>=1.6.3->tensorboard>=2.2.0->pytorch_lightning) (0.2.8)\n",
            "Requirement already satisfied: rsa<5,>=3.1.4 in /usr/local/lib/python3.7/dist-packages (from google-auth<3,>=1.6.3->tensorboard>=2.2.0->pytorch_lightning) (4.8)\n",
            "Requirement already satisfied: cachetools<5.0,>=2.0.0 in /usr/local/lib/python3.7/dist-packages (from google-auth<3,>=1.6.3->tensorboard>=2.2.0->pytorch_lightning) (4.2.4)\n",
            "Requirement already satisfied: requests-oauthlib>=0.7.0 in /usr/local/lib/python3.7/dist-packages (from google-auth-oauthlib<0.5,>=0.4.1->tensorboard>=2.2.0->pytorch_lightning) (1.3.0)\n",
            "Requirement already satisfied: importlib-metadata>=4.4 in /usr/local/lib/python3.7/dist-packages (from markdown>=2.6.8->tensorboard>=2.2.0->pytorch_lightning) (4.8.2)\n",
            "Requirement already satisfied: zipp>=0.5 in /usr/local/lib/python3.7/dist-packages (from importlib-metadata>=4.4->markdown>=2.6.8->tensorboard>=2.2.0->pytorch_lightning) (3.6.0)\n",
            "Requirement already satisfied: pyasn1<0.5.0,>=0.4.6 in /usr/local/lib/python3.7/dist-packages (from pyasn1-modules>=0.2.1->google-auth<3,>=1.6.3->tensorboard>=2.2.0->pytorch_lightning) (0.4.8)\n",
            "Requirement already satisfied: urllib3!=1.25.0,!=1.25.1,<1.26,>=1.21.1 in /usr/local/lib/python3.7/dist-packages (from requests->fsspec[http]!=2021.06.0,>=2021.05.0->pytorch_lightning) (1.24.3)\n",
            "Requirement already satisfied: certifi>=2017.4.17 in /usr/local/lib/python3.7/dist-packages (from requests->fsspec[http]!=2021.06.0,>=2021.05.0->pytorch_lightning) (2021.10.8)\n",
            "Requirement already satisfied: idna<3,>=2.5 in /usr/local/lib/python3.7/dist-packages (from requests->fsspec[http]!=2021.06.0,>=2021.05.0->pytorch_lightning) (2.10)\n",
            "Requirement already satisfied: chardet<4,>=3.0.2 in /usr/local/lib/python3.7/dist-packages (from requests->fsspec[http]!=2021.06.0,>=2021.05.0->pytorch_lightning) (3.0.4)\n",
            "Requirement already satisfied: oauthlib>=3.0.0 in /usr/local/lib/python3.7/dist-packages (from requests-oauthlib>=0.7.0->google-auth-oauthlib<0.5,>=0.4.1->tensorboard>=2.2.0->pytorch_lightning) (3.1.1)\n",
            "Requirement already satisfied: yarl<2.0,>=1.0 in /usr/local/lib/python3.7/dist-packages (from aiohttp->fsspec[http]!=2021.06.0,>=2021.05.0->pytorch_lightning) (1.7.2)\n",
            "Requirement already satisfied: charset-normalizer<3.0,>=2.0 in /usr/local/lib/python3.7/dist-packages (from aiohttp->fsspec[http]!=2021.06.0,>=2021.05.0->pytorch_lightning) (2.0.8)\n",
            "Requirement already satisfied: attrs>=17.3.0 in /usr/local/lib/python3.7/dist-packages (from aiohttp->fsspec[http]!=2021.06.0,>=2021.05.0->pytorch_lightning) (21.2.0)\n",
            "Requirement already satisfied: asynctest==0.13.0 in /usr/local/lib/python3.7/dist-packages (from aiohttp->fsspec[http]!=2021.06.0,>=2021.05.0->pytorch_lightning) (0.13.0)\n",
            "Requirement already satisfied: multidict<7.0,>=4.5 in /usr/local/lib/python3.7/dist-packages (from aiohttp->fsspec[http]!=2021.06.0,>=2021.05.0->pytorch_lightning) (5.2.0)\n",
            "Requirement already satisfied: async-timeout<5.0,>=4.0.0a3 in /usr/local/lib/python3.7/dist-packages (from aiohttp->fsspec[http]!=2021.06.0,>=2021.05.0->pytorch_lightning) (4.0.1)\n",
            "Requirement already satisfied: aiosignal>=1.1.2 in /usr/local/lib/python3.7/dist-packages (from aiohttp->fsspec[http]!=2021.06.0,>=2021.05.0->pytorch_lightning) (1.2.0)\n",
            "Requirement already satisfied: frozenlist>=1.1.1 in /usr/local/lib/python3.7/dist-packages (from aiohttp->fsspec[http]!=2021.06.0,>=2021.05.0->pytorch_lightning) (1.2.0)\n"
          ]
        }
      ]
    },
    {
      "cell_type": "code",
      "metadata": {
        "colab": {
          "base_uri": "https://localhost:8080/"
        },
        "id": "BtCM-F30TAn1",
        "outputId": "53690d8a-9419-465e-ce3b-b120cfbc27d9"
      },
      "source": [
        "from google.colab import drive\n",
        "drive.mount('/content/drive')"
      ],
      "execution_count": 2,
      "outputs": [
        {
          "output_type": "stream",
          "name": "stdout",
          "text": [
            "Drive already mounted at /content/drive; to attempt to forcibly remount, call drive.mount(\"/content/drive\", force_remount=True).\n"
          ]
        }
      ]
    },
    {
      "cell_type": "code",
      "metadata": {
        "id": "C32Rg1ChxzSD"
      },
      "source": [
        "# #!/usr/bin/python\n",
        "# # -*- coding: UTF-8 -*-\n",
        "# from sklearn.preprocessing import MinMaxScaler\n",
        "# from sklearn.model_selection import train_test_split\n",
        "# import os\n",
        "# import numpy as np\n",
        "# import pandas as pd\n",
        "# import matplotlib.pyplot as plt\n",
        "# import torch\n",
        "# import torch.nn as nn\n",
        "# from torch.autograd import Variable\n",
        "# import torch.optim as optim\n",
        "# import random\n",
        "# import time\n",
        "# from sklearn.metrics import mean_squared_error, mean_absolute_error\n",
        "# import math\n",
        "# from tqdm import trange\n",
        "# from torch.utils.data import DataLoader, Dataset\n",
        "# from torchvision import transforms\n",
        "# import tensorflow as tf\n",
        "# import matplotlib.pyplot as plt\n",
        "\n",
        "\n",
        "# date=4200\n",
        "# model_name = \"Mini-Pytorch\"\n",
        "# torch.manual_seed(1)\n",
        "# input_size = 7\n",
        "# hidden_size = 1024\n",
        "# output_size = 1\n",
        "# epoch = 200\n",
        "# lr = 1e-4\n",
        "# seqs = 5\n",
        "# dim_in = 7\n",
        "# dim_out = 1\n",
        "# time_steps = 5\n",
        "# smoothing_window_size = 100\n",
        "\n",
        "# for par in [0]:\n",
        "#     for par2 in [50]:\n",
        "#         smoothing_window_size = par2\n",
        "#         time_steps = 5\n",
        "#         date = 2000\n",
        "#         product = \"SQJT1125\"\n",
        "#         df = pd.read_csv(\"/content/drive/MyDrive/Colab Notebooks/min_600104data1129.csv\")\n",
        "#         df = df.drop(labels=['symbol', 'frequency', 'Unnamed: 0', 'eob', 'position', 'pre_close'], axis=1)\n",
        "#         data = df.sort_values(['bob'], ascending=True)\n",
        "#         # data = data[:-1]\n",
        "#         data = data[par:]\n",
        "#         data['mid'] = (data['high'].values + data['low'].values) / 2\n",
        "#         data = data[['mid','open', 'high', 'low', 'close', 'volume', 'amount', 'bob']]\n",
        "#         data = data.sort_values(['bob'], ascending=True)\n",
        "#         data = data.drop(labels=['bob'], axis=1)\n",
        "#         train_data = data[int(data.shape[0]*0.2):]\n",
        "#         test_data = data[:int(data.shape[0] * 0.2)]\n",
        "#         #draw\n",
        "#         plt.rc('font', family='Youyuan', size='11')  # 和matplotlib一样指明字体\n",
        "#         plt.rc('axes', unicode_minus='False')\n",
        "#         pdseries = pd.Series(train_data['mid'].values)\n",
        "#         plt.title('Train stock')  # 设置中文标题\n",
        "#         pdseries.plot()\n",
        "#         plt.show()\n",
        "\n",
        "        \n",
        "#         train_data = train_data.values.astype('float32')\n",
        "#         test_data = test_data.values.astype('float32')\n",
        "#         #entire fit\n",
        "#         scaler = MinMaxScaler()\n",
        "#         scaler.fit(train_data)\n",
        "#         train_data = scaler.transform(train_data)\n",
        "#         test_data = scaler.transform(test_data)\n",
        "\n",
        "\n",
        "#         # 根据原始数据集构建矩阵\n",
        "#         def create_dataset_trans(data, time_steps1,time_steps2,time_steps3):\n",
        "#             dataX1, dataX2 ,dataY = [], [], []\n",
        "#             for i in range(len(data) - (time_steps1+time_steps2+time_steps3-3)):\n",
        "#               a = data[i:(i + time_steps1), :]\n",
        "#               b = data[(i + time_steps1-1):(i + time_steps1+time_steps2-1), :]\n",
        "#               c = data[(i + time_steps1+time_steps2-2):(i + time_steps1+time_steps2+time_steps3-2), 0:1]\n",
        "#               dataX1.append(a)\n",
        "#               dataX2.append(b)\n",
        "#               dataY.append(c)\n",
        "#             dataX1 = np.array(dataX1)\n",
        "#             dataX2 = np.array(dataX2)\n",
        "#             dataY = np.array(dataY)\n",
        "#             return dataX1, dataX2 ,dataY \n",
        "\n",
        "#         trainX,trainX_decoder,trainY = create_dataset_trans(train_data,32,16,16)\n",
        "#         testX,testX_decoder,testY = create_dataset_trans(test_data,32,16,16)\n",
        "\n",
        "#         print('-' * 10 + 'train/test' + '-' * 10)\n",
        "        \n",
        "#         print(\"trainX:\",trainX.shape)\n",
        "#         print(\"trainX_decoder:\",trainX_decoder.shape)\n",
        "#         print(\"trainY:\",trainY.shape)\n",
        "        \n",
        "#         print(\"testX:\",testX.shape)\n",
        "#         print(\"testX_decoder:\",testX_decoder.shape)\n",
        "#         print(\"testY:\",testY.shape)\n",
        "  \n",
        "        \n",
        "        \n",
        "#         '''\n",
        "#         ----------train/test----------\n",
        "#         trainX: (26395, 5, 7)\n",
        "#         trainX_decoder: (26395, 5, 6)\n",
        "#         trainY: (26395, 5, 1)\n",
        "        \n",
        "#         testX: (6595, 5, 7)\n",
        "#         testX_decoder: (6595, 5, 6)\n",
        "#         testY: (6595, 5, 1)\n",
        "        \n",
        "        \n",
        "        \n",
        "#         '''\n"
      ],
      "execution_count": 3,
      "outputs": []
    },
    {
      "cell_type": "code",
      "metadata": {
        "colab": {
          "base_uri": "https://localhost:8080/",
          "height": 1000
        },
        "id": "XSsTYKhHS59Z",
        "outputId": "fd78a6a3-b4c2-4e25-fcb8-3f3357fcff70"
      },
      "source": [
        "#!/usr/bin/python\n",
        "# -*- coding: UTF-8 -*-\n",
        "from sklearn.preprocessing import MinMaxScaler\n",
        "from sklearn.model_selection import train_test_split\n",
        "import os\n",
        "import numpy as np\n",
        "import pandas as pd\n",
        "import matplotlib.pyplot as plt\n",
        "import torch\n",
        "import torch.nn as nn\n",
        "from torch.autograd import Variable\n",
        "import torch.optim as optim\n",
        "import random\n",
        "import time\n",
        "from sklearn.metrics import mean_squared_error, mean_absolute_error\n",
        "import math\n",
        "from tqdm import trange\n",
        "from torch.utils.data import DataLoader, Dataset\n",
        "from torchvision import transforms\n",
        "import tensorflow as tf\n",
        "import matplotlib.pyplot as plt\n",
        "\n",
        "\n",
        "date=4200\n",
        "model_name = \"Mini-Pytorch\"\n",
        "torch.manual_seed(1)\n",
        "input_size = 7\n",
        "hidden_size = 1024\n",
        "output_size = 1\n",
        "epoch = 50\n",
        "lr = 1e-4\n",
        "seqs = 5\n",
        "dim_in = 7\n",
        "dim_out = 1\n",
        "time_steps = 5\n",
        "smoothing_window_size = 100\n",
        "\n",
        "for par in [0]:\n",
        "    for par2 in [50]:\n",
        "        smoothing_window_size = par2\n",
        "        time_steps = 5\n",
        "        date = 2000\n",
        "        product = \"SQJT1125\"\n",
        "        df = pd.read_csv(\"/content/drive/MyDrive/Colab Notebooks/min_600104data1129.csv\")\n",
        "        df = df.drop(labels=['symbol', 'frequency', 'Unnamed: 0', 'eob', 'position', 'pre_close'], axis=1)\n",
        "        data = df.sort_values(['bob'], ascending=True)\n",
        "        # data = data[:-1]\n",
        "        data = data[par:]\n",
        "        data['mid'] = (data['high'].values + data['low'].values) / 2\n",
        "        data = data[['mid','open', 'high', 'low', 'close', 'volume', 'amount', 'bob']]\n",
        "        data = data.sort_values(['bob'], ascending=True)\n",
        "        data = data.drop(labels=['bob'], axis=1)\n",
        "        train_data = data[int(data.shape[0]*0.2):]\n",
        "        test_data = data[:int(data.shape[0] * 0.2)]\n",
        "        #draw\n",
        "        plt.rc('font', family='Youyuan', size='11')  # 和matplotlib一样指明字体\n",
        "        plt.rc('axes', unicode_minus='False')\n",
        "        pdseries = pd.Series(train_data['mid'].values)\n",
        "        plt.title('Train stock')  # 设置中文标题\n",
        "        pdseries.plot()\n",
        "        plt.show()\n",
        "\n",
        "        train_data = train_data.values.astype('float32')\n",
        "        test_data = test_data.values.astype('float32')\n",
        "        #entire fit\n",
        "        scaler = MinMaxScaler()\n",
        "        scaler.fit(train_data)\n",
        "        train_data = scaler.transform(train_data)\n",
        "        test_data = scaler.transform(test_data)\n",
        "\n",
        "\n",
        "        # 根据原始数据集构建矩阵\n",
        "        def create_dataset_trans(data, time_steps1,time_steps2,time_steps3):\n",
        "            dataX1, dataX2 ,dataY = [], [], []\n",
        "            for i in range(len(data) - (time_steps1+time_steps2+time_steps3-3)):\n",
        "              a = data[i:(i + time_steps1), :]\n",
        "              b = data[(i + time_steps1-1):(i + time_steps1+time_steps2-1), 1:7]\n",
        "              c = data[(i + time_steps1+time_steps2-2):(i + time_steps1+time_steps2+time_steps3-2), 0:1]\n",
        "              dataX1.append(a)\n",
        "              dataX2.append(b)\n",
        "              dataY.append(c)\n",
        "            dataX1 = np.array(dataX1)\n",
        "            dataX2 = np.array(dataX2)\n",
        "            dataY = np.array(dataY)\n",
        "            return dataX1, dataX2 ,dataY \n",
        "\n",
        "        trainX,trainX_decoder,trainY = create_dataset_trans(train_data,16,16,16)\n",
        "        testX,testX_decoder,testY = create_dataset_trans(test_data,16,16,16)\n",
        "\n",
        "        print('-' * 10 + 'train/test' + '-' * 10)\n",
        "        \n",
        "        print(\"trainX:\",trainX.shape)\n",
        "        print(\"trainX_decoder:\",trainX_decoder.shape)\n",
        "        print(\"trainY:\",trainY.shape)\n",
        "        \n",
        "        print(\"testX:\",testX.shape)\n",
        "        print(\"testX_decoder:\",testX_decoder.shape)\n",
        "        print(\"testY:\",testY.shape)\n",
        "  \n",
        "\n",
        "        from torch.utils.data import TensorDataset\n",
        "        import torch\n",
        "        from torch.utils.data import DataLoader\n",
        "\n",
        "        dl_train = DataLoader(TensorDataset(torch.tensor(trainX).float(), torch.tensor(trainY).float(), torch.tensor(trainX_decoder).float()),\n",
        "                              shuffle=False, batch_size=1024)\n",
        "        dl_valid = DataLoader(TensorDataset(torch.tensor(testX).float(), torch.tensor(testY).float(), torch.tensor(testX_decoder).float()),\n",
        "                              shuffle=False, batch_size=1024)\n",
        "\n",
        "\n",
        "\n",
        "\n",
        "        print(trainX.shape)\n",
        "        bp = TimeSeriesForcasting(n_encoder_inputs=7, n_decoder_inputs=6)\n",
        "        device = torch.device(\"cuda:0\" if torch.cuda.is_available() else \"cpu\")\n",
        "        bp = bp.to(device)\n",
        "        # summary(bp,input_size=(5,7),batch_size=-1)\n",
        "        # trainx = trainX.to(device)\n",
        "        # trainy = trainY.to(device)\n",
        "        # testx = testX.to(device)\n",
        "        # testy = testY.to(device)\n",
        "        # trainX_decoder = trainX_decoder.to(device)\n",
        "        # trainY_decoder = trainY_decoder.to(device)\n",
        "        # testX_decoder = testX_decoder.to(device)\n",
        "        # testY_decoder = testY_decoder.to(device)\n",
        "\n",
        "        loss_function = nn.MSELoss()\n",
        "        optimizer = optim.Adam(bp.parameters(), lr)\n",
        "\n",
        "        list_x = []\n",
        "        list_y = []\n",
        "        list_ax = []\n",
        "        list_ay = []\n",
        "\n",
        "        begin = time.time()\n",
        "\n",
        "        for epoch in trange(epoch):\n",
        "            for batch_idx,(data_dl, target_dl, train_decoder_dl) in enumerate(dl_train):\n",
        "                data_dl, target_dl, train_decoder_dl = data_dl.to(device) , target_dl.to(device), train_decoder_dl.to(device)\n",
        "                # print(data_dl.shape)\n",
        "                # print(target_dl.shape)\n",
        "                # print(train_decoder_dl.shape)\n",
        "                init_states = None\n",
        "                output = bp((data_dl,train_decoder_dl))\n",
        "                loss = loss_function(output, target_dl)\n",
        "                running_loss = loss.item()\n",
        "                optimizer.zero_grad()\n",
        "                loss.backward()\n",
        "                optimizer.step()\n",
        "                Loss = []\n",
        "\n",
        "                list_x.append(epoch)\n",
        "                list_y.append(loss.item())\n",
        "\n",
        "                if epoch == 10:\n",
        "                    list_ax.append(epoch)\n",
        "                    list_ay.append(loss.item())\n",
        "                    plt.plot(list_x, list_y, color='r', linewidth=3)\n",
        "                    plt.scatter(list_ax, list_ay, marker='*', color='r')\n",
        "                    plt.show()\n",
        "\n",
        "                if epoch % 10 == 0:\n",
        "                    Loss.append(running_loss)\n",
        "                    print('Epoch: {}, Loss:{:.5f}, learning rate:{}'.format(epoch + 1, loss.item(), 1e-4))\n",
        "\n",
        "        pass\n",
        "\n",
        "        time_elapsed = time.time() - begin\n",
        "        print('Training Complete in {:.0f}m {:.0f}s'.format(time_elapsed // 60, time_elapsed % 60))\n",
        "\n",
        "        bp = bp.eval()\n",
        "\n",
        "        result =[]\n",
        "        true =[]\n",
        "        for batch_idx, (test_dl, valid_dl, test_decoder_dl) in enumerate(dl_valid):\n",
        "            init_states = None\n",
        "            test_dl, valid_dl, test_decoder_dl = test_dl.to(device), valid_dl.to(device), test_decoder_dl.to(device)\n",
        "\n",
        "            pre_output = bp((test_dl,test_decoder_dl))\n",
        "            print(\"pre_output:\", pre_output.shape)\n",
        "            result_iter = pre_output [:,-1:,:]\n",
        "            print(\"result_iter:\",result_iter.shape)\n",
        "            result_iter =result_iter.cpu()\n",
        "            result_iter = result_iter.data.numpy().reshape(pre_output.shape[0],1)\n",
        "            for i in result_iter:\n",
        "                result.append(i)\n",
        "            print(\"result_iter:\", result_iter.shape)\n",
        "\n",
        "\n",
        "            true_iter = valid_dl[:, -1:, :]\n",
        "            print(\"true_iter:\", true_iter.shape)\n",
        "            true_iter = true_iter.cpu()\n",
        "            true_iter = true_iter.data.numpy().reshape(true_iter.shape[0], 1)\n",
        "            for i in true_iter:\n",
        "                true.append(i)\n",
        "            print(\"true_iter:\", true_iter.shape)\n",
        "\n",
        "        final_result = np.array(result)\n",
        "        true_y = np.array(true)\n",
        "\n",
        "        mse = mean_squared_error(result, true_y)\n",
        "        rmse = math.sqrt(mean_squared_error(result, true_y))\n",
        "        mae = mean_absolute_error(result, true_y)\n",
        "        print('mean_squared_error:%.6f' % mse)\n",
        "        print('root_mean_squared_error:%.6f' % rmse)\n",
        "        print('mean_absolute_error:%.6f' % mae)\n",
        "\n",
        "        # output = output.cpu()\n",
        "        # plt.plot(output.data.numpy().reshape(trainX.shape[0], 1), label='predicted_output')\n",
        "        # plt.plot(trainy.reshape(trainy.shape[0], 1), label='train_y')\n",
        "        # plt.grid(True)\n",
        "        # plt.axis('tight')\n",
        "        # plt.legend()\n",
        "        # plt.show()\n",
        "\n",
        "        plt.plot(final_result, label='pred_output')\n",
        "        plt.plot(true_y, label='test_y')\n",
        "        plt.legend()\n",
        "        plt.grid(True)\n",
        "        plt.axis('tight')\n",
        "        plt.show()\n",
        "        #\n",
        "        # # with open(\"predict.csv\", \"w\") as my_empty_csv:\n",
        "        # new=pd.DataFrame({'product':product,\n",
        "        #                   'model':model_name,\n",
        "        #                   'epoch':epoch,\n",
        "        #                   'learning rate':lr,\n",
        "        #                   'hidden_size':hidden_size,\n",
        "        #                   'input_size':input_size,\n",
        "        #                   'mean_squared_error':mse,\n",
        "        #                   'root_mean_squared_error':rmse,\n",
        "        #                   'mean_absolute_error':mae,\n",
        "        #                   },index=[0])   # 自定义索引为：1 ，这里也可以不设置index\n",
        "        # new.to_csv(\"上汽集团predict.csv\")\n",
        "        # record = pd.read_csv(\"上汽集团predict.csv\",index_col=0)\n",
        "        # record = record.append([{'product':product,\n",
        "        #                   'model':model_name,\n",
        "        #                   'epoch':epoch,\n",
        "        #                   'learning rate':lr,\n",
        "        #                   'hidden_size':hidden_size,\n",
        "        #                   'input_size':input_size,\n",
        "        #                   'mean_squared_error':mse,\n",
        "        #                   'root_mean_squared_error':rmse,\n",
        "        #                   'mean_absolute_error':mae,\n",
        "        #                 'predict':result,\n",
        "        #                 'date':date,\n",
        "        #                 'time_step':time_steps,\n",
        "        #                          'smoothing_window_size':smoothing_window_size,\n",
        "        #\n",
        "        #                   }],ignore_index=True)\n",
        "        # record.to_csv(\"上汽集团predict.csv\")\n"
      ],
      "execution_count": null,
      "outputs": [
        {
          "output_type": "stream",
          "name": "stderr",
          "text": [
            "findfont: Font family ['Youyuan'] not found. Falling back to DejaVu Sans.\n",
            "findfont: Font family ['Youyuan'] not found. Falling back to DejaVu Sans.\n"
          ]
        },
        {
          "output_type": "display_data",
          "data": {
            "image/png": "[encoded data removed]",
            "text/plain": [
              "<Figure size 432x288 with 1 Axes>"
            ]
          },
          "metadata": {
            "needs_background": "light"
          }
        },
        {
          "output_type": "stream",
          "name": "stdout",
          "text": [
            "----------train/test----------\n",
            "trainX: (26355, 16, 7)\n",
            "trainX_decoder: (26355, 16, 6)\n",
            "trainY: (26355, 16, 1)\n",
            "testX: (6555, 16, 7)\n",
            "testX_decoder: (6555, 16, 6)\n",
            "testY: (6555, 16, 1)\n",
            "(26355, 16, 7)\n"
          ]
        },
        {
          "output_type": "stream",
          "name": "stderr",
          "text": [
            "\r  0%|          | 0/50 [00:00<?, ?it/s]"
          ]
        },
        {
          "output_type": "stream",
          "name": "stdout",
          "text": [
            "Epoch: 1, Loss:0.09512, learning rate:0.0001\n",
            "Epoch: 1, Loss:35.01421, learning rate:0.0001\n",
            "Epoch: 1, Loss:4.08578, learning rate:0.0001\n",
            "Epoch: 1, Loss:0.83029, learning rate:0.0001\n",
            "Epoch: 1, Loss:3.92009, learning rate:0.0001\n",
            "Epoch: 1, Loss:3.30973, learning rate:0.0001\n",
            "Epoch: 1, Loss:1.56605, learning rate:0.0001\n",
            "Epoch: 1, Loss:0.35358, learning rate:0.0001\n",
            "Epoch: 1, Loss:0.06779, learning rate:0.0001\n",
            "Epoch: 1, Loss:0.67367, learning rate:0.0001\n",
            "Epoch: 1, Loss:0.86864, learning rate:0.0001\n",
            "Epoch: 1, Loss:0.77134, learning rate:0.0001\n",
            "Epoch: 1, Loss:0.59237, learning rate:0.0001\n",
            "Epoch: 1, Loss:0.38881, learning rate:0.0001\n",
            "Epoch: 1, Loss:0.10453, learning rate:0.0001\n",
            "Epoch: 1, Loss:0.02337, learning rate:0.0001\n",
            "Epoch: 1, Loss:0.22007, learning rate:0.0001\n",
            "Epoch: 1, Loss:0.37753, learning rate:0.0001\n",
            "Epoch: 1, Loss:0.26094, learning rate:0.0001\n",
            "Epoch: 1, Loss:0.22058, learning rate:0.0001\n",
            "Epoch: 1, Loss:0.26435, learning rate:0.0001\n",
            "Epoch: 1, Loss:0.11950, learning rate:0.0001\n",
            "Epoch: 1, Loss:0.01976, learning rate:0.0001\n",
            "Epoch: 1, Loss:0.01005, learning rate:0.0001\n",
            "Epoch: 1, Loss:0.01272, learning rate:0.0001\n"
          ]
        },
        {
          "output_type": "stream",
          "name": "stderr",
          "text": [
            "\r  2%|▏         | 1/50 [00:15<12:48, 15.69s/it]"
          ]
        },
        {
          "output_type": "stream",
          "name": "stdout",
          "text": [
            "Epoch: 1, Loss:0.01843, learning rate:0.0001\n",
            "Epoch: 2, Loss:0.15306, learning rate:0.0001\n",
            "Epoch: 2, Loss:0.22976, learning rate:0.0001\n",
            "Epoch: 2, Loss:0.10443, learning rate:0.0001\n",
            "Epoch: 2, Loss:0.08173, learning rate:0.0001\n",
            "Epoch: 2, Loss:0.02516, learning rate:0.0001\n",
            "Epoch: 2, Loss:0.01210, learning rate:0.0001\n",
            "Epoch: 2, Loss:0.07100, learning rate:0.0001\n",
            "Epoch: 2, Loss:0.19213, learning rate:0.0001\n",
            "Epoch: 2, Loss:0.14506, learning rate:0.0001\n",
            "Epoch: 2, Loss:0.08960, learning rate:0.0001\n",
            "Epoch: 2, Loss:0.10039, learning rate:0.0001\n",
            "Epoch: 2, Loss:0.04445, learning rate:0.0001\n",
            "Epoch: 2, Loss:0.01151, learning rate:0.0001\n",
            "Epoch: 2, Loss:0.10034, learning rate:0.0001\n",
            "Epoch: 2, Loss:0.15377, learning rate:0.0001\n",
            "Epoch: 2, Loss:0.09576, learning rate:0.0001\n",
            "Epoch: 2, Loss:0.04821, learning rate:0.0001\n",
            "Epoch: 2, Loss:0.03621, learning rate:0.0001\n",
            "Epoch: 2, Loss:0.07781, learning rate:0.0001\n",
            "Epoch: 2, Loss:0.04931, learning rate:0.0001\n",
            "Epoch: 2, Loss:0.01011, learning rate:0.0001\n",
            "Epoch: 2, Loss:0.02666, learning rate:0.0001\n",
            "Epoch: 2, Loss:0.02100, learning rate:0.0001\n",
            "Epoch: 2, Loss:0.03438, learning rate:0.0001\n",
            "Epoch: 2, Loss:0.07044, learning rate:0.0001\n"
          ]
        },
        {
          "output_type": "stream",
          "name": "stderr",
          "text": [
            "\r  4%|▍         | 2/50 [00:31<12:38, 15.79s/it]"
          ]
        },
        {
          "output_type": "stream",
          "name": "stdout",
          "text": [
            "Epoch: 2, Loss:0.11625, learning rate:0.0001\n",
            "Epoch: 3, Loss:0.02897, learning rate:0.0001\n",
            "Epoch: 3, Loss:0.01057, learning rate:0.0001\n",
            "Epoch: 3, Loss:0.02024, learning rate:0.0001\n",
            "Epoch: 3, Loss:0.01097, learning rate:0.0001\n",
            "Epoch: 3, Loss:0.01619, learning rate:0.0001\n",
            "Epoch: 3, Loss:0.01368, learning rate:0.0001\n",
            "Epoch: 3, Loss:0.02796, learning rate:0.0001\n",
            "Epoch: 3, Loss:0.04672, learning rate:0.0001\n",
            "Epoch: 3, Loss:0.01302, learning rate:0.0001\n",
            "Epoch: 3, Loss:0.01061, learning rate:0.0001\n",
            "Epoch: 3, Loss:0.00922, learning rate:0.0001\n",
            "Epoch: 3, Loss:0.01570, learning rate:0.0001\n",
            "Epoch: 3, Loss:0.06343, learning rate:0.0001\n",
            "Epoch: 3, Loss:0.15883, learning rate:0.0001\n",
            "Epoch: 3, Loss:0.14312, learning rate:0.0001\n",
            "Epoch: 3, Loss:0.04479, learning rate:0.0001\n",
            "Epoch: 3, Loss:0.00948, learning rate:0.0001\n",
            "Epoch: 3, Loss:0.01320, learning rate:0.0001\n",
            "Epoch: 3, Loss:0.00928, learning rate:0.0001\n",
            "Epoch: 3, Loss:0.00936, learning rate:0.0001\n",
            "Epoch: 3, Loss:0.04706, learning rate:0.0001\n",
            "Epoch: 3, Loss:0.04566, learning rate:0.0001\n",
            "Epoch: 3, Loss:0.01685, learning rate:0.0001\n",
            "Epoch: 3, Loss:0.02810, learning rate:0.0001\n",
            "Epoch: 3, Loss:0.03325, learning rate:0.0001\n"
          ]
        },
        {
          "output_type": "stream",
          "name": "stderr",
          "text": [
            "\r  6%|▌         | 3/50 [00:47<12:20, 15.75s/it]"
          ]
        },
        {
          "output_type": "stream",
          "name": "stdout",
          "text": [
            "Epoch: 3, Loss:0.04146, learning rate:0.0001\n",
            "Epoch: 4, Loss:0.01784, learning rate:0.0001\n",
            "Epoch: 4, Loss:0.03892, learning rate:0.0001\n",
            "Epoch: 4, Loss:0.01483, learning rate:0.0001\n",
            "Epoch: 4, Loss:0.01977, learning rate:0.0001\n",
            "Epoch: 4, Loss:0.01270, learning rate:0.0001\n",
            "Epoch: 4, Loss:0.01153, learning rate:0.0001\n",
            "Epoch: 4, Loss:0.03728, learning rate:0.0001\n",
            "Epoch: 4, Loss:0.08214, learning rate:0.0001\n",
            "Epoch: 4, Loss:0.03654, learning rate:0.0001\n",
            "Epoch: 4, Loss:0.01251, learning rate:0.0001\n",
            "Epoch: 4, Loss:0.01387, learning rate:0.0001\n",
            "Epoch: 4, Loss:0.00871, learning rate:0.0001\n",
            "Epoch: 4, Loss:0.04510, learning rate:0.0001\n",
            "Epoch: 4, Loss:0.14413, learning rate:0.0001\n",
            "Epoch: 4, Loss:0.14509, learning rate:0.0001\n",
            "Epoch: 4, Loss:0.05106, learning rate:0.0001\n",
            "Epoch: 4, Loss:0.01067, learning rate:0.0001\n",
            "Epoch: 4, Loss:0.00997, learning rate:0.0001\n",
            "Epoch: 4, Loss:0.01002, learning rate:0.0001\n",
            "Epoch: 4, Loss:0.00839, learning rate:0.0001\n",
            "Epoch: 4, Loss:0.04222, learning rate:0.0001\n",
            "Epoch: 4, Loss:0.04295, learning rate:0.0001\n",
            "Epoch: 4, Loss:0.01591, learning rate:0.0001\n",
            "Epoch: 4, Loss:0.02693, learning rate:0.0001\n",
            "Epoch: 4, Loss:0.03182, learning rate:0.0001\n"
          ]
        },
        {
          "output_type": "stream",
          "name": "stderr",
          "text": [
            "\r  8%|▊         | 4/50 [01:03<12:07, 15.81s/it]"
          ]
        },
        {
          "output_type": "stream",
          "name": "stdout",
          "text": [
            "Epoch: 4, Loss:0.03759, learning rate:0.0001\n",
            "Epoch: 5, Loss:0.01797, learning rate:0.0001\n",
            "Epoch: 5, Loss:0.03926, learning rate:0.0001\n",
            "Epoch: 5, Loss:0.01561, learning rate:0.0001\n",
            "Epoch: 5, Loss:0.01943, learning rate:0.0001\n",
            "Epoch: 5, Loss:0.01226, learning rate:0.0001\n",
            "Epoch: 5, Loss:0.01144, learning rate:0.0001\n",
            "Epoch: 5, Loss:0.03656, learning rate:0.0001\n",
            "Epoch: 5, Loss:0.07824, learning rate:0.0001\n",
            "Epoch: 5, Loss:0.03437, learning rate:0.0001\n",
            "Epoch: 5, Loss:0.01128, learning rate:0.0001\n",
            "Epoch: 5, Loss:0.01138, learning rate:0.0001\n",
            "Epoch: 5, Loss:0.00912, learning rate:0.0001\n",
            "Epoch: 5, Loss:0.04770, learning rate:0.0001\n",
            "Epoch: 5, Loss:0.14064, learning rate:0.0001\n",
            "Epoch: 5, Loss:0.13369, learning rate:0.0001\n",
            "Epoch: 5, Loss:0.04227, learning rate:0.0001\n",
            "Epoch: 5, Loss:0.00875, learning rate:0.0001\n",
            "Epoch: 5, Loss:0.01350, learning rate:0.0001\n",
            "Epoch: 5, Loss:0.00889, learning rate:0.0001\n",
            "Epoch: 5, Loss:0.01073, learning rate:0.0001\n",
            "Epoch: 5, Loss:0.04793, learning rate:0.0001\n",
            "Epoch: 5, Loss:0.04165, learning rate:0.0001\n",
            "Epoch: 5, Loss:0.01484, learning rate:0.0001\n",
            "Epoch: 5, Loss:0.01963, learning rate:0.0001\n",
            "Epoch: 5, Loss:0.02040, learning rate:0.0001\n"
          ]
        },
        {
          "output_type": "stream",
          "name": "stderr",
          "text": [
            "\r 10%|█         | 5/50 [01:18<11:49, 15.78s/it]"
          ]
        },
        {
          "output_type": "stream",
          "name": "stdout",
          "text": [
            "Epoch: 5, Loss:0.02294, learning rate:0.0001\n",
            "Epoch: 6, Loss:0.02320, learning rate:0.0001\n",
            "Epoch: 6, Loss:0.04784, learning rate:0.0001\n",
            "Epoch: 6, Loss:0.01750, learning rate:0.0001\n",
            "Epoch: 6, Loss:0.01844, learning rate:0.0001\n",
            "Epoch: 6, Loss:0.01131, learning rate:0.0001\n",
            "Epoch: 6, Loss:0.01469, learning rate:0.0001\n",
            "Epoch: 6, Loss:0.04467, learning rate:0.0001\n",
            "Epoch: 6, Loss:0.08620, learning rate:0.0001\n",
            "Epoch: 6, Loss:0.03741, learning rate:0.0001\n",
            "Epoch: 6, Loss:0.01098, learning rate:0.0001\n",
            "Epoch: 6, Loss:0.00978, learning rate:0.0001\n",
            "Epoch: 6, Loss:0.01080, learning rate:0.0001\n",
            "Epoch: 6, Loss:0.05545, learning rate:0.0001\n",
            "Epoch: 6, Loss:0.14472, learning rate:0.0001\n",
            "Epoch: 6, Loss:0.12974, learning rate:0.0001\n",
            "Epoch: 6, Loss:0.03858, learning rate:0.0001\n",
            "Epoch: 6, Loss:0.00808, learning rate:0.0001\n",
            "Epoch: 6, Loss:0.01697, learning rate:0.0001\n",
            "Epoch: 6, Loss:0.01052, learning rate:0.0001\n",
            "Epoch: 6, Loss:0.01491, learning rate:0.0001\n",
            "Epoch: 6, Loss:0.05269, learning rate:0.0001\n",
            "Epoch: 6, Loss:0.03997, learning rate:0.0001\n",
            "Epoch: 6, Loss:0.01368, learning rate:0.0001\n",
            "Epoch: 6, Loss:0.01461, learning rate:0.0001\n",
            "Epoch: 6, Loss:0.01371, learning rate:0.0001\n"
          ]
        },
        {
          "output_type": "stream",
          "name": "stderr",
          "text": [
            "\r 12%|█▏        | 6/50 [01:34<11:34, 15.78s/it]"
          ]
        },
        {
          "output_type": "stream",
          "name": "stdout",
          "text": [
            "Epoch: 6, Loss:0.01468, learning rate:0.0001\n",
            "Epoch: 7, Loss:0.02826, learning rate:0.0001\n",
            "Epoch: 7, Loss:0.05312, learning rate:0.0001\n",
            "Epoch: 7, Loss:0.01800, learning rate:0.0001\n",
            "Epoch: 7, Loss:0.01650, learning rate:0.0001\n",
            "Epoch: 7, Loss:0.01070, learning rate:0.0001\n",
            "Epoch: 7, Loss:0.01820, learning rate:0.0001\n",
            "Epoch: 7, Loss:0.05064, learning rate:0.0001\n",
            "Epoch: 7, Loss:0.08926, learning rate:0.0001\n",
            "Epoch: 7, Loss:0.03810, learning rate:0.0001\n",
            "Epoch: 7, Loss:0.01030, learning rate:0.0001\n",
            "Epoch: 7, Loss:0.00829, learning rate:0.0001\n",
            "Epoch: 7, Loss:0.01316, learning rate:0.0001\n",
            "Epoch: 7, Loss:0.06057, learning rate:0.0001\n",
            "Epoch: 7, Loss:0.14272, learning rate:0.0001\n",
            "Epoch: 7, Loss:0.12103, learning rate:0.0001\n",
            "Epoch: 7, Loss:0.03329, learning rate:0.0001\n",
            "Epoch: 7, Loss:0.00813, learning rate:0.0001\n",
            "Epoch: 7, Loss:0.02070, learning rate:0.0001\n",
            "Epoch: 7, Loss:0.01299, learning rate:0.0001\n",
            "Epoch: 7, Loss:0.01844, learning rate:0.0001\n",
            "Epoch: 7, Loss:0.05384, learning rate:0.0001\n",
            "Epoch: 7, Loss:0.03694, learning rate:0.0001\n",
            "Epoch: 7, Loss:0.01277, learning rate:0.0001\n",
            "Epoch: 7, Loss:0.01120, learning rate:0.0001\n",
            "Epoch: 7, Loss:0.00943, learning rate:0.0001\n"
          ]
        },
        {
          "output_type": "stream",
          "name": "stderr",
          "text": [
            "\r 14%|█▍        | 7/50 [01:50<11:20, 15.84s/it]"
          ]
        },
        {
          "output_type": "stream",
          "name": "stdout",
          "text": [
            "Epoch: 7, Loss:0.01001, learning rate:0.0001\n",
            "Epoch: 8, Loss:0.03189, learning rate:0.0001\n",
            "Epoch: 8, Loss:0.05286, learning rate:0.0001\n",
            "Epoch: 8, Loss:0.01713, learning rate:0.0001\n",
            "Epoch: 8, Loss:0.01361, learning rate:0.0001\n",
            "Epoch: 8, Loss:0.01095, learning rate:0.0001\n",
            "Epoch: 8, Loss:0.02190, learning rate:0.0001\n",
            "Epoch: 8, Loss:0.05362, learning rate:0.0001\n",
            "Epoch: 8, Loss:0.08638, learning rate:0.0001\n",
            "Epoch: 8, Loss:0.03535, learning rate:0.0001\n",
            "Epoch: 8, Loss:0.00923, learning rate:0.0001\n",
            "Epoch: 8, Loss:0.00736, learning rate:0.0001\n",
            "Epoch: 8, Loss:0.01554, learning rate:0.0001\n",
            "Epoch: 8, Loss:0.06399, learning rate:0.0001\n",
            "Epoch: 8, Loss:0.13683, learning rate:0.0001\n",
            "Epoch: 8, Loss:0.10889, learning rate:0.0001\n",
            "Epoch: 8, Loss:0.02711, learning rate:0.0001\n",
            "Epoch: 8, Loss:0.00875, learning rate:0.0001\n",
            "Epoch: 8, Loss:0.02463, learning rate:0.0001\n",
            "Epoch: 8, Loss:0.01584, learning rate:0.0001\n",
            "Epoch: 8, Loss:0.02157, learning rate:0.0001\n",
            "Epoch: 8, Loss:0.05232, learning rate:0.0001\n",
            "Epoch: 8, Loss:0.03239, learning rate:0.0001\n",
            "Epoch: 8, Loss:0.01278, learning rate:0.0001\n",
            "Epoch: 8, Loss:0.00847, learning rate:0.0001\n",
            "Epoch: 8, Loss:0.00750, learning rate:0.0001\n"
          ]
        },
        {
          "output_type": "stream",
          "name": "stderr",
          "text": [
            "\r 16%|█▌        | 8/50 [02:06<11:04, 15.83s/it]"
          ]
        },
        {
          "output_type": "stream",
          "name": "stdout",
          "text": [
            "Epoch: 8, Loss:0.00791, learning rate:0.0001\n",
            "Epoch: 9, Loss:0.03338, learning rate:0.0001\n",
            "Epoch: 9, Loss:0.04981, learning rate:0.0001\n",
            "Epoch: 9, Loss:0.01536, learning rate:0.0001\n",
            "Epoch: 9, Loss:0.01118, learning rate:0.0001\n",
            "Epoch: 9, Loss:0.01158, learning rate:0.0001\n",
            "Epoch: 9, Loss:0.02508, learning rate:0.0001\n",
            "Epoch: 9, Loss:0.05510, learning rate:0.0001\n",
            "Epoch: 9, Loss:0.08136, learning rate:0.0001\n",
            "Epoch: 9, Loss:0.03172, learning rate:0.0001\n",
            "Epoch: 9, Loss:0.00770, learning rate:0.0001\n",
            "Epoch: 9, Loss:0.00730, learning rate:0.0001\n",
            "Epoch: 9, Loss:0.01855, learning rate:0.0001\n",
            "Epoch: 9, Loss:0.06554, learning rate:0.0001\n",
            "Epoch: 9, Loss:0.12693, learning rate:0.0001\n",
            "Epoch: 9, Loss:0.09612, learning rate:0.0001\n",
            "Epoch: 9, Loss:0.02150, learning rate:0.0001\n",
            "Epoch: 9, Loss:0.01032, learning rate:0.0001\n",
            "Epoch: 9, Loss:0.02848, learning rate:0.0001\n",
            "Epoch: 9, Loss:0.01922, learning rate:0.0001\n",
            "Epoch: 9, Loss:0.02280, learning rate:0.0001\n",
            "Epoch: 9, Loss:0.04779, learning rate:0.0001\n",
            "Epoch: 9, Loss:0.02743, learning rate:0.0001\n",
            "Epoch: 9, Loss:0.01281, learning rate:0.0001\n",
            "Epoch: 9, Loss:0.00731, learning rate:0.0001\n",
            "Epoch: 9, Loss:0.00692, learning rate:0.0001\n"
          ]
        },
        {
          "output_type": "stream",
          "name": "stderr",
          "text": [
            "\r 18%|█▊        | 9/50 [02:22<10:50, 15.86s/it]"
          ]
        },
        {
          "output_type": "stream",
          "name": "stdout",
          "text": [
            "Epoch: 9, Loss:0.00703, learning rate:0.0001\n",
            "Epoch: 10, Loss:0.03387, learning rate:0.0001\n",
            "Epoch: 10, Loss:0.04461, learning rate:0.0001\n",
            "Epoch: 10, Loss:0.01291, learning rate:0.0001\n",
            "Epoch: 10, Loss:0.00894, learning rate:0.0001\n",
            "Epoch: 10, Loss:0.01323, learning rate:0.0001\n",
            "Epoch: 10, Loss:0.02748, learning rate:0.0001\n",
            "Epoch: 10, Loss:0.05427, learning rate:0.0001\n",
            "Epoch: 10, Loss:0.07401, learning rate:0.0001\n",
            "Epoch: 10, Loss:0.02629, learning rate:0.0001\n",
            "Epoch: 10, Loss:0.00709, learning rate:0.0001\n",
            "Epoch: 10, Loss:0.00761, learning rate:0.0001\n",
            "Epoch: 10, Loss:0.02132, learning rate:0.0001\n",
            "Epoch: 10, Loss:0.06421, learning rate:0.0001\n",
            "Epoch: 10, Loss:0.11699, learning rate:0.0001\n",
            "Epoch: 10, Loss:0.08244, learning rate:0.0001\n",
            "Epoch: 10, Loss:0.01670, learning rate:0.0001\n",
            "Epoch: 10, Loss:0.01199, learning rate:0.0001\n",
            "Epoch: 10, Loss:0.03201, learning rate:0.0001\n",
            "Epoch: 10, Loss:0.02109, learning rate:0.0001\n",
            "Epoch: 10, Loss:0.02325, learning rate:0.0001\n",
            "Epoch: 10, Loss:0.04343, learning rate:0.0001\n",
            "Epoch: 10, Loss:0.02347, learning rate:0.0001\n",
            "Epoch: 10, Loss:0.01354, learning rate:0.0001\n",
            "Epoch: 10, Loss:0.00683, learning rate:0.0001\n",
            "Epoch: 10, Loss:0.00706, learning rate:0.0001\n"
          ]
        },
        {
          "output_type": "stream",
          "name": "stderr",
          "text": [
            "\r 20%|██        | 10/50 [02:38<10:34, 15.85s/it]"
          ]
        },
        {
          "output_type": "stream",
          "name": "stdout",
          "text": [
            "Epoch: 10, Loss:0.00680, learning rate:0.0001\n"
          ]
        },
        {
          "output_type": "display_data",
          "data": {
            "image/png": "[encoded data removed]",
            "text/plain": [
              "<Figure size 432x288 with 1 Axes>"
            ]
          },
          "metadata": {
            "needs_background": "light"
          }
        },
        {
          "output_type": "stream",
          "name": "stdout",
          "text": [
            "Epoch: 11, Loss:0.03234, learning rate:0.0001\n"
          ]
        },
        {
          "output_type": "display_data",
          "data": {
            "image/png": "[encoded data removed]",
            "text/plain": [
              "<Figure size 432x288 with 1 Axes>"
            ]
          },
          "metadata": {
            "needs_background": "light"
          }
        },
        {
          "output_type": "stream",
          "name": "stdout",
          "text": [
            "Epoch: 11, Loss:0.03985, learning rate:0.0001\n"
          ]
        },
        {
          "output_type": "display_data",
          "data": {
            "image/png": "[encoded data removed]",
            "text/plain": [
              "<Figure size 432x288 with 1 Axes>"
            ]
          },
          "metadata": {
            "needs_background": "light"
          }
        },
        {
          "output_type": "stream",
          "name": "stdout",
          "text": [
            "Epoch: 11, Loss:0.01053, learning rate:0.0001\n"
          ]
        },
        {
          "output_type": "display_data",
          "data": {
            "image/png": "[encoded data removed]",
            "text/plain": [
              "<Figure size 432x288 with 1 Axes>"
            ]
          },
          "metadata": {
            "needs_background": "light"
          }
        },
        {
          "output_type": "stream",
          "name": "stdout",
          "text": [
            "Epoch: 11, Loss:0.00770, learning rate:0.0001\n"
          ]
        },
        {
          "output_type": "display_data",
          "data": {
            "image/png": "[encoded data removed]",
            "text/plain": [
              "<Figure size 432x288 with 1 Axes>"
            ]
          },
          "metadata": {
            "needs_background": "light"
          }
        },
        {
          "output_type": "stream",
          "name": "stdout",
          "text": [
            "Epoch: 11, Loss:0.01449, learning rate:0.0001\n"
          ]
        },
        {
          "output_type": "display_data",
          "data": {
            "image/png": "[encoded data removed]",
            "text/plain": [
              "<Figure size 432x288 with 1 Axes>"
            ]
          },
          "metadata": {
            "needs_background": "light"
          }
        },
        {
          "output_type": "stream",
          "name": "stdout",
          "text": [
            "Epoch: 11, Loss:0.02860, learning rate:0.0001\n"
          ]
        },
        {
          "output_type": "display_data",
          "data": {
            "image/png": "[encoded data removed]",
            "text/plain": [
              "<Figure size 432x288 with 1 Axes>"
            ]
          },
          "metadata": {
            "needs_background": "light"
          }
        },
        {
          "output_type": "stream",
          "name": "stdout",
          "text": [
            "Epoch: 11, Loss:0.05189, learning rate:0.0001\n"
          ]
        },
        {
          "output_type": "display_data",
          "data": {
            "image/png": "[encoded data removed]",
            "text/plain": [
              "<Figure size 432x288 with 1 Axes>"
            ]
          },
          "metadata": {
            "needs_background": "light"
          }
        },
        {
          "output_type": "stream",
          "name": "stdout",
          "text": [
            "Epoch: 11, Loss:0.06631, learning rate:0.0001\n"
          ]
        },
        {
          "output_type": "display_data",
          "data": {
            "image/png": "[encoded data removed]",
            "text/plain": [
              "<Figure size 432x288 with 1 Axes>"
            ]
          },
          "metadata": {
            "needs_background": "light"
          }
        },
        {
          "output_type": "stream",
          "name": "stdout",
          "text": [
            "Epoch: 11, Loss:0.02213, learning rate:0.0001\n"
          ]
        },
        {
          "output_type": "display_data",
          "data": {
            "image/png": "[encoded data removed]",
            "text/plain": [
              "<Figure size 432x288 with 1 Axes>"
            ]
          },
          "metadata": {
            "needs_background": "light"
          }
        },
        {
          "output_type": "stream",
          "name": "stdout",
          "text": [
            "Epoch: 11, Loss:0.00664, learning rate:0.0001\n"
          ]
        },
        {
          "output_type": "display_data",
          "data": {
            "image/png": "[encoded data removed]",
            "text/plain": [
              "<Figure size 432x288 with 1 Axes>"
            ]
          },
          "metadata": {
            "needs_background": "light"
          }
        },
        {
          "output_type": "stream",
          "name": "stdout",
          "text": [
            "Epoch: 11, Loss:0.00859, learning rate:0.0001\n"
          ]
        },
        {
          "output_type": "display_data",
          "data": {
            "image/png": "[encoded data removed]",
            "text/plain": [
              "<Figure size 432x288 with 1 Axes>"
            ]
          },
          "metadata": {
            "needs_background": "light"
          }
        },
        {
          "output_type": "stream",
          "name": "stdout",
          "text": [
            "Epoch: 11, Loss:0.02259, learning rate:0.0001\n"
          ]
        },
        {
          "output_type": "display_data",
          "data": {
            "image/png": "[encoded data removed]",
            "text/plain": [
              "<Figure size 432x288 with 1 Axes>"
            ]
          },
          "metadata": {
            "needs_background": "light"
          }
        },
        {
          "output_type": "stream",
          "name": "stdout",
          "text": [
            "Epoch: 11, Loss:0.06239, learning rate:0.0001\n"
          ]
        },
        {
          "output_type": "display_data",
          "data": {
            "image/png": "[encoded data removed]",
            "text/plain": [
              "<Figure size 432x288 with 1 Axes>"
            ]
          },
          "metadata": {
            "needs_background": "light"
          }
        },
        {
          "output_type": "stream",
          "name": "stdout",
          "text": [
            "Epoch: 11, Loss:0.10613, learning rate:0.0001\n"
          ]
        },
        {
          "output_type": "display_data",
          "data": {
            "image/png": "[encoded data removed]",
            "text/plain": [
              "<Figure size 432x288 with 1 Axes>"
            ]
          },
          "metadata": {
            "needs_background": "light"
          }
        },
        {
          "output_type": "stream",
          "name": "stdout",
          "text": [
            "Epoch: 11, Loss:0.07073, learning rate:0.0001\n"
          ]
        },
        {
          "output_type": "display_data",
          "data": {
            "image/png": "[encoded data removed]",
            "text/plain": [
              "<Figure size 432x288 with 1 Axes>"
            ]
          },
          "metadata": {
            "needs_background": "light"
          }
        },
        {
          "output_type": "stream",
          "name": "stdout",
          "text": [
            "Epoch: 11, Loss:0.01311, learning rate:0.0001\n"
          ]
        },
        {
          "output_type": "display_data",
          "data": {
            "image/png": "[encoded data removed]",
            "text/plain": [
              "<Figure size 432x288 with 1 Axes>"
            ]
          },
          "metadata": {
            "needs_background": "light"
          }
        },
        {
          "output_type": "stream",
          "name": "stdout",
          "text": [
            "Epoch: 11, Loss:0.01386, learning rate:0.0001\n"
          ]
        },
        {
          "output_type": "display_data",
          "data": {
            "image/png": "[encoded data removed]",
            "text/plain": [
              "<Figure size 432x288 with 1 Axes>"
            ]
          },
          "metadata": {
            "needs_background": "light"
          }
        },
        {
          "output_type": "stream",
          "name": "stdout",
          "text": [
            "Epoch: 11, Loss:0.03434, learning rate:0.0001\n"
          ]
        },
        {
          "output_type": "display_data",
          "data": {
            "image/png": "[encoded data removed]",
            "text/plain": [
              "<Figure size 432x288 with 1 Axes>"
            ]
          },
          "metadata": {
            "needs_background": "light"
          }
        },
        {
          "output_type": "stream",
          "name": "stdout",
          "text": [
            "Epoch: 11, Loss:0.02247, learning rate:0.0001\n"
          ]
        },
        {
          "output_type": "display_data",
          "data": {
            "image/png": "[encoded data removed]",
            "text/plain": [
              "<Figure size 432x288 with 1 Axes>"
            ]
          },
          "metadata": {
            "needs_background": "light"
          }
        },
        {
          "output_type": "stream",
          "name": "stdout",
          "text": [
            "Epoch: 11, Loss:0.02314, learning rate:0.0001\n"
          ]
        },
        {
          "output_type": "display_data",
          "data": {
            "image/png": "[encoded data removed]",
            "text/plain": [
              "<Figure size 432x288 with 1 Axes>"
            ]
          },
          "metadata": {
            "needs_background": "light"
          }
        },
        {
          "output_type": "stream",
          "name": "stdout",
          "text": [
            "Epoch: 11, Loss:0.03801, learning rate:0.0001\n"
          ]
        },
        {
          "output_type": "display_data",
          "data": {
            "image/png": "[encoded data removed]",
            "text/plain": [
              "<Figure size 432x288 with 1 Axes>"
            ]
          },
          "metadata": {
            "needs_background": "light"
          }
        },
        {
          "output_type": "stream",
          "name": "stdout",
          "text": [
            "Epoch: 11, Loss:0.01979, learning rate:0.0001\n"
          ]
        },
        {
          "output_type": "display_data",
          "data": {
            "image/png": "[encoded data removed]",
            "text/plain": [
              "<Figure size 432x288 with 1 Axes>"
            ]
          },
          "metadata": {
            "needs_background": "light"
          }
        },
        {
          "output_type": "stream",
          "name": "stdout",
          "text": [
            "Epoch: 11, Loss:0.01407, learning rate:0.0001\n"
          ]
        },
        {
          "output_type": "display_data",
          "data": {
            "image/png": "[encoded data removed]",
            "text/plain": [
              "<Figure size 432x288 with 1 Axes>"
            ]
          },
          "metadata": {
            "needs_background": "light"
          }
        },
        {
          "output_type": "stream",
          "name": "stdout",
          "text": [
            "Epoch: 11, Loss:0.00723, learning rate:0.0001\n"
          ]
        },
        {
          "output_type": "display_data",
          "data": {
            "image/png": "[encoded data removed]",
            "text/plain": [
              "<Figure size 432x288 with 1 Axes>"
            ]
          },
          "metadata": {
            "needs_background": "light"
          }
        },
        {
          "output_type": "stream",
          "name": "stdout",
          "text": [
            "Epoch: 11, Loss:0.00747, learning rate:0.0001\n"
          ]
        },
        {
          "output_type": "display_data",
          "data": {
            "image/png": "[encoded data removed]",
            "text/plain": [
              "<Figure size 432x288 with 1 Axes>"
            ]
          },
          "metadata": {
            "needs_background": "light"
          }
        },
        {
          "output_type": "stream",
          "name": "stderr",
          "text": [
            "\r 22%|██▏       | 11/50 [02:57<10:59, 16.90s/it]"
          ]
        },
        {
          "output_type": "stream",
          "name": "stdout",
          "text": [
            "Epoch: 11, Loss:0.00684, learning rate:0.0001\n",
            "Epoch: 12, Loss:0.03027, learning rate:0.0001\n",
            "Epoch: 12, Loss:0.03436, learning rate:0.0001\n",
            "Epoch: 12, Loss:0.00900, learning rate:0.0001\n",
            "Epoch: 12, Loss:0.00704, learning rate:0.0001\n",
            "Epoch: 12, Loss:0.01600, learning rate:0.0001\n",
            "Epoch: 12, Loss:0.02925, learning rate:0.0001\n",
            "Epoch: 12, Loss:0.04912, learning rate:0.0001\n",
            "Epoch: 12, Loss:0.05867, learning rate:0.0001\n",
            "Epoch: 12, Loss:0.01824, learning rate:0.0001\n",
            "Epoch: 12, Loss:0.00664, learning rate:0.0001\n",
            "Epoch: 12, Loss:0.00950, learning rate:0.0001\n",
            "Epoch: 12, Loss:0.02404, learning rate:0.0001\n",
            "Epoch: 12, Loss:0.05979, learning rate:0.0001\n",
            "Epoch: 12, Loss:0.09463, learning rate:0.0001\n",
            "Epoch: 12, Loss:0.06046, learning rate:0.0001\n",
            "Epoch: 12, Loss:0.01013, learning rate:0.0001\n",
            "Epoch: 12, Loss:0.01574, learning rate:0.0001\n",
            "Epoch: 12, Loss:0.03545, learning rate:0.0001\n",
            "Epoch: 12, Loss:0.02247, learning rate:0.0001\n",
            "Epoch: 12, Loss:0.02135, learning rate:0.0001\n",
            "Epoch: 12, Loss:0.03337, learning rate:0.0001\n",
            "Epoch: 12, Loss:0.01703, learning rate:0.0001\n",
            "Epoch: 12, Loss:0.01492, learning rate:0.0001\n",
            "Epoch: 12, Loss:0.00758, learning rate:0.0001\n",
            "Epoch: 12, Loss:0.00785, learning rate:0.0001\n"
          ]
        },
        {
          "output_type": "stream",
          "name": "stderr",
          "text": [
            "\r 24%|██▍       | 12/50 [03:13<10:29, 16.57s/it]"
          ]
        },
        {
          "output_type": "stream",
          "name": "stdout",
          "text": [
            "Epoch: 12, Loss:0.00677, learning rate:0.0001\n",
            "Epoch: 13, Loss:0.02707, learning rate:0.0001\n",
            "Epoch: 13, Loss:0.02880, learning rate:0.0001\n",
            "Epoch: 13, Loss:0.00757, learning rate:0.0001\n",
            "Epoch: 13, Loss:0.00675, learning rate:0.0001\n",
            "Epoch: 13, Loss:0.01658, learning rate:0.0001\n",
            "Epoch: 13, Loss:0.02830, learning rate:0.0001\n",
            "Epoch: 13, Loss:0.04437, learning rate:0.0001\n",
            "Epoch: 13, Loss:0.05016, learning rate:0.0001\n",
            "Epoch: 13, Loss:0.01447, learning rate:0.0001\n",
            "Epoch: 13, Loss:0.00682, learning rate:0.0001\n",
            "Epoch: 13, Loss:0.01035, learning rate:0.0001\n",
            "Epoch: 13, Loss:0.02387, learning rate:0.0001\n",
            "Epoch: 13, Loss:0.05462, learning rate:0.0001\n",
            "Epoch: 13, Loss:0.08394, learning rate:0.0001\n",
            "Epoch: 13, Loss:0.05059, learning rate:0.0001\n",
            "Epoch: 13, Loss:0.00817, learning rate:0.0001\n",
            "Epoch: 13, Loss:0.01688, learning rate:0.0001\n",
            "Epoch: 13, Loss:0.03553, learning rate:0.0001\n",
            "Epoch: 13, Loss:0.02200, learning rate:0.0001\n",
            "Epoch: 13, Loss:0.02001, learning rate:0.0001\n",
            "Epoch: 13, Loss:0.02872, learning rate:0.0001\n",
            "Epoch: 13, Loss:0.01461, learning rate:0.0001\n",
            "Epoch: 13, Loss:0.01554, learning rate:0.0001\n",
            "Epoch: 13, Loss:0.00814, learning rate:0.0001\n",
            "Epoch: 13, Loss:0.00807, learning rate:0.0001\n"
          ]
        },
        {
          "output_type": "stream",
          "name": "stderr",
          "text": [
            "\r 26%|██▌       | 13/50 [03:29<10:06, 16.39s/it]"
          ]
        },
        {
          "output_type": "stream",
          "name": "stdout",
          "text": [
            "Epoch: 13, Loss:0.00649, learning rate:0.0001\n",
            "Epoch: 14, Loss:0.02447, learning rate:0.0001\n",
            "Epoch: 14, Loss:0.02483, learning rate:0.0001\n",
            "Epoch: 14, Loss:0.00674, learning rate:0.0001\n",
            "Epoch: 14, Loss:0.00663, learning rate:0.0001\n",
            "Epoch: 14, Loss:0.01703, learning rate:0.0001\n",
            "Epoch: 14, Loss:0.02726, learning rate:0.0001\n",
            "Epoch: 14, Loss:0.04082, learning rate:0.0001\n",
            "Epoch: 14, Loss:0.04387, learning rate:0.0001\n",
            "Epoch: 14, Loss:0.01195, learning rate:0.0001\n",
            "Epoch: 14, Loss:0.00734, learning rate:0.0001\n",
            "Epoch: 14, Loss:0.01094, learning rate:0.0001\n",
            "Epoch: 14, Loss:0.02415, learning rate:0.0001\n",
            "Epoch: 14, Loss:0.05120, learning rate:0.0001\n",
            "Epoch: 14, Loss:0.07489, learning rate:0.0001\n",
            "Epoch: 14, Loss:0.04279, learning rate:0.0001\n",
            "Epoch: 14, Loss:0.00681, learning rate:0.0001\n",
            "Epoch: 14, Loss:0.01805, learning rate:0.0001\n",
            "Epoch: 14, Loss:0.03609, learning rate:0.0001\n",
            "Epoch: 14, Loss:0.02143, learning rate:0.0001\n",
            "Epoch: 14, Loss:0.01813, learning rate:0.0001\n",
            "Epoch: 14, Loss:0.02447, learning rate:0.0001\n",
            "Epoch: 14, Loss:0.01289, learning rate:0.0001\n",
            "Epoch: 14, Loss:0.01681, learning rate:0.0001\n",
            "Epoch: 14, Loss:0.00884, learning rate:0.0001\n",
            "Epoch: 14, Loss:0.00818, learning rate:0.0001\n"
          ]
        },
        {
          "output_type": "stream",
          "name": "stderr",
          "text": [
            "\r 28%|██▊       | 14/50 [03:45<09:44, 16.22s/it]"
          ]
        },
        {
          "output_type": "stream",
          "name": "stdout",
          "text": [
            "Epoch: 14, Loss:0.00631, learning rate:0.0001\n",
            "Epoch: 15, Loss:0.02181, learning rate:0.0001\n",
            "Epoch: 15, Loss:0.02082, learning rate:0.0001\n",
            "Epoch: 15, Loss:0.00633, learning rate:0.0001\n",
            "Epoch: 15, Loss:0.00685, learning rate:0.0001\n",
            "Epoch: 15, Loss:0.01727, learning rate:0.0001\n",
            "Epoch: 15, Loss:0.02614, learning rate:0.0001\n",
            "Epoch: 15, Loss:0.03689, learning rate:0.0001\n",
            "Epoch: 15, Loss:0.03813, learning rate:0.0001\n",
            "Epoch: 15, Loss:0.00989, learning rate:0.0001\n",
            "Epoch: 15, Loss:0.00775, learning rate:0.0001\n",
            "Epoch: 15, Loss:0.01130, learning rate:0.0001\n",
            "Epoch: 15, Loss:0.02354, learning rate:0.0001\n",
            "Epoch: 15, Loss:0.04778, learning rate:0.0001\n",
            "Epoch: 15, Loss:0.06670, learning rate:0.0001\n",
            "Epoch: 15, Loss:0.03679, learning rate:0.0001\n",
            "Epoch: 15, Loss:0.00592, learning rate:0.0001\n",
            "Epoch: 15, Loss:0.01936, learning rate:0.0001\n",
            "Epoch: 15, Loss:0.03578, learning rate:0.0001\n",
            "Epoch: 15, Loss:0.02099, learning rate:0.0001\n",
            "Epoch: 15, Loss:0.01671, learning rate:0.0001\n",
            "Epoch: 15, Loss:0.02125, learning rate:0.0001\n",
            "Epoch: 15, Loss:0.01185, learning rate:0.0001\n",
            "Epoch: 15, Loss:0.01750, learning rate:0.0001\n",
            "Epoch: 15, Loss:0.00920, learning rate:0.0001\n",
            "Epoch: 15, Loss:0.00847, learning rate:0.0001\n"
          ]
        },
        {
          "output_type": "stream",
          "name": "stderr",
          "text": [
            "\r 30%|███       | 15/50 [04:00<09:23, 16.09s/it]"
          ]
        },
        {
          "output_type": "stream",
          "name": "stdout",
          "text": [
            "Epoch: 15, Loss:0.00622, learning rate:0.0001\n",
            "Epoch: 16, Loss:0.01985, learning rate:0.0001\n",
            "Epoch: 16, Loss:0.01803, learning rate:0.0001\n",
            "Epoch: 16, Loss:0.00594, learning rate:0.0001\n",
            "Epoch: 16, Loss:0.00697, learning rate:0.0001\n",
            "Epoch: 16, Loss:0.01752, learning rate:0.0001\n",
            "Epoch: 16, Loss:0.02540, learning rate:0.0001\n",
            "Epoch: 16, Loss:0.03438, learning rate:0.0001\n",
            "Epoch: 16, Loss:0.03363, learning rate:0.0001\n",
            "Epoch: 16, Loss:0.00842, learning rate:0.0001\n",
            "Epoch: 16, Loss:0.00840, learning rate:0.0001\n",
            "Epoch: 16, Loss:0.01202, learning rate:0.0001\n",
            "Epoch: 16, Loss:0.02326, learning rate:0.0001\n",
            "Epoch: 16, Loss:0.04421, learning rate:0.0001\n",
            "Epoch: 16, Loss:0.06052, learning rate:0.0001\n",
            "Epoch: 16, Loss:0.03174, learning rate:0.0001\n",
            "Epoch: 16, Loss:0.00535, learning rate:0.0001\n",
            "Epoch: 16, Loss:0.02069, learning rate:0.0001\n",
            "Epoch: 16, Loss:0.03576, learning rate:0.0001\n",
            "Epoch: 16, Loss:0.01963, learning rate:0.0001\n",
            "Epoch: 16, Loss:0.01461, learning rate:0.0001\n",
            "Epoch: 16, Loss:0.01823, learning rate:0.0001\n",
            "Epoch: 16, Loss:0.01083, learning rate:0.0001\n",
            "Epoch: 16, Loss:0.01816, learning rate:0.0001\n",
            "Epoch: 16, Loss:0.00950, learning rate:0.0001\n",
            "Epoch: 16, Loss:0.00804, learning rate:0.0001\n"
          ]
        },
        {
          "output_type": "stream",
          "name": "stderr",
          "text": [
            "\r 32%|███▏      | 16/50 [04:16<09:06, 16.08s/it]"
          ]
        },
        {
          "output_type": "stream",
          "name": "stdout",
          "text": [
            "Epoch: 16, Loss:0.00575, learning rate:0.0001\n",
            "Epoch: 17, Loss:0.01775, learning rate:0.0001\n",
            "Epoch: 17, Loss:0.01547, learning rate:0.0001\n",
            "Epoch: 17, Loss:0.00592, learning rate:0.0001\n",
            "Epoch: 17, Loss:0.00703, learning rate:0.0001\n",
            "Epoch: 17, Loss:0.01718, learning rate:0.0001\n",
            "Epoch: 17, Loss:0.02387, learning rate:0.0001\n",
            "Epoch: 17, Loss:0.03087, learning rate:0.0001\n",
            "Epoch: 17, Loss:0.02983, learning rate:0.0001\n",
            "Epoch: 17, Loss:0.00731, learning rate:0.0001\n",
            "Epoch: 17, Loss:0.00874, learning rate:0.0001\n",
            "Epoch: 17, Loss:0.01235, learning rate:0.0001\n",
            "Epoch: 17, Loss:0.02233, learning rate:0.0001\n",
            "Epoch: 17, Loss:0.04080, learning rate:0.0001\n",
            "Epoch: 17, Loss:0.05440, learning rate:0.0001\n",
            "Epoch: 17, Loss:0.02771, learning rate:0.0001\n",
            "Epoch: 17, Loss:0.00512, learning rate:0.0001\n",
            "Epoch: 17, Loss:0.02132, learning rate:0.0001\n",
            "Epoch: 17, Loss:0.03504, learning rate:0.0001\n",
            "Epoch: 17, Loss:0.01897, learning rate:0.0001\n",
            "Epoch: 17, Loss:0.01350, learning rate:0.0001\n",
            "Epoch: 17, Loss:0.01595, learning rate:0.0001\n",
            "Epoch: 17, Loss:0.01032, learning rate:0.0001\n",
            "Epoch: 17, Loss:0.01876, learning rate:0.0001\n",
            "Epoch: 17, Loss:0.00967, learning rate:0.0001\n",
            "Epoch: 17, Loss:0.00799, learning rate:0.0001\n"
          ]
        },
        {
          "output_type": "stream",
          "name": "stderr",
          "text": [
            "\r 34%|███▍      | 17/50 [04:32<08:48, 16.00s/it]"
          ]
        },
        {
          "output_type": "stream",
          "name": "stdout",
          "text": [
            "Epoch: 17, Loss:0.00542, learning rate:0.0001\n",
            "Epoch: 18, Loss:0.01586, learning rate:0.0001\n",
            "Epoch: 18, Loss:0.01370, learning rate:0.0001\n",
            "Epoch: 18, Loss:0.00602, learning rate:0.0001\n",
            "Epoch: 18, Loss:0.00734, learning rate:0.0001\n",
            "Epoch: 18, Loss:0.01713, learning rate:0.0001\n",
            "Epoch: 18, Loss:0.02207, learning rate:0.0001\n",
            "Epoch: 18, Loss:0.02781, learning rate:0.0001\n",
            "Epoch: 18, Loss:0.02593, learning rate:0.0001\n",
            "Epoch: 18, Loss:0.00644, learning rate:0.0001\n",
            "Epoch: 18, Loss:0.00908, learning rate:0.0001\n",
            "Epoch: 18, Loss:0.01242, learning rate:0.0001\n",
            "Epoch: 18, Loss:0.02152, learning rate:0.0001\n",
            "Epoch: 18, Loss:0.03739, learning rate:0.0001\n",
            "Epoch: 18, Loss:0.04905, learning rate:0.0001\n",
            "Epoch: 18, Loss:0.02401, learning rate:0.0001\n",
            "Epoch: 18, Loss:0.00501, learning rate:0.0001\n",
            "Epoch: 18, Loss:0.02143, learning rate:0.0001\n",
            "Epoch: 18, Loss:0.03343, learning rate:0.0001\n",
            "Epoch: 18, Loss:0.01767, learning rate:0.0001\n",
            "Epoch: 18, Loss:0.01194, learning rate:0.0001\n",
            "Epoch: 18, Loss:0.01410, learning rate:0.0001\n",
            "Epoch: 18, Loss:0.01000, learning rate:0.0001\n",
            "Epoch: 18, Loss:0.01903, learning rate:0.0001\n",
            "Epoch: 18, Loss:0.00972, learning rate:0.0001\n",
            "Epoch: 18, Loss:0.00773, learning rate:0.0001\n"
          ]
        },
        {
          "output_type": "stream",
          "name": "stderr",
          "text": [
            "\r 36%|███▌      | 18/50 [04:48<08:32, 16.02s/it]"
          ]
        },
        {
          "output_type": "stream",
          "name": "stdout",
          "text": [
            "Epoch: 18, Loss:0.00527, learning rate:0.0001\n",
            "Epoch: 19, Loss:0.01410, learning rate:0.0001\n",
            "Epoch: 19, Loss:0.01206, learning rate:0.0001\n",
            "Epoch: 19, Loss:0.00589, learning rate:0.0001\n",
            "Epoch: 19, Loss:0.00724, learning rate:0.0001\n",
            "Epoch: 19, Loss:0.01635, learning rate:0.0001\n",
            "Epoch: 19, Loss:0.02084, learning rate:0.0001\n",
            "Epoch: 19, Loss:0.02536, learning rate:0.0001\n",
            "Epoch: 19, Loss:0.02364, learning rate:0.0001\n",
            "Epoch: 19, Loss:0.00584, learning rate:0.0001\n",
            "Epoch: 19, Loss:0.00929, learning rate:0.0001\n",
            "Epoch: 19, Loss:0.01204, learning rate:0.0001\n",
            "Epoch: 19, Loss:0.02033, learning rate:0.0001\n",
            "Epoch: 19, Loss:0.03520, learning rate:0.0001\n",
            "Epoch: 19, Loss:0.04546, learning rate:0.0001\n",
            "Epoch: 19, Loss:0.02158, learning rate:0.0001\n",
            "Epoch: 19, Loss:0.00486, learning rate:0.0001\n",
            "Epoch: 19, Loss:0.02154, learning rate:0.0001\n",
            "Epoch: 19, Loss:0.03284, learning rate:0.0001\n",
            "Epoch: 19, Loss:0.01650, learning rate:0.0001\n",
            "Epoch: 19, Loss:0.01118, learning rate:0.0001\n",
            "Epoch: 19, Loss:0.01266, learning rate:0.0001\n",
            "Epoch: 19, Loss:0.00947, learning rate:0.0001\n",
            "Epoch: 19, Loss:0.01897, learning rate:0.0001\n",
            "Epoch: 19, Loss:0.00945, learning rate:0.0001\n",
            "Epoch: 19, Loss:0.00748, learning rate:0.0001\n"
          ]
        },
        {
          "output_type": "stream",
          "name": "stderr",
          "text": [
            "\r 38%|███▊      | 19/50 [05:04<08:14, 15.97s/it]"
          ]
        },
        {
          "output_type": "stream",
          "name": "stdout",
          "text": [
            "Epoch: 19, Loss:0.00490, learning rate:0.0001\n",
            "Epoch: 20, Loss:0.01305, learning rate:0.0001\n",
            "Epoch: 20, Loss:0.01098, learning rate:0.0001\n",
            "Epoch: 20, Loss:0.00571, learning rate:0.0001\n",
            "Epoch: 20, Loss:0.00726, learning rate:0.0001\n",
            "Epoch: 20, Loss:0.01603, learning rate:0.0001\n",
            "Epoch: 20, Loss:0.01956, learning rate:0.0001\n",
            "Epoch: 20, Loss:0.02372, learning rate:0.0001\n",
            "Epoch: 20, Loss:0.02149, learning rate:0.0001\n",
            "Epoch: 20, Loss:0.00530, learning rate:0.0001\n",
            "Epoch: 20, Loss:0.00936, learning rate:0.0001\n",
            "Epoch: 20, Loss:0.01217, learning rate:0.0001\n",
            "Epoch: 20, Loss:0.01946, learning rate:0.0001\n",
            "Epoch: 20, Loss:0.03309, learning rate:0.0001\n",
            "Epoch: 20, Loss:0.04173, learning rate:0.0001\n",
            "Epoch: 20, Loss:0.01942, learning rate:0.0001\n",
            "Epoch: 20, Loss:0.00489, learning rate:0.0001\n",
            "Epoch: 20, Loss:0.02185, learning rate:0.0001\n",
            "Epoch: 20, Loss:0.03206, learning rate:0.0001\n",
            "Epoch: 20, Loss:0.01556, learning rate:0.0001\n",
            "Epoch: 20, Loss:0.00998, learning rate:0.0001\n",
            "Epoch: 20, Loss:0.01097, learning rate:0.0001\n",
            "Epoch: 20, Loss:0.00937, learning rate:0.0001\n",
            "Epoch: 20, Loss:0.01940, learning rate:0.0001\n",
            "Epoch: 20, Loss:0.00967, learning rate:0.0001\n",
            "Epoch: 20, Loss:0.00708, learning rate:0.0001\n"
          ]
        },
        {
          "output_type": "stream",
          "name": "stderr",
          "text": [
            "\r 40%|████      | 20/50 [05:20<07:59, 15.99s/it]"
          ]
        },
        {
          "output_type": "stream",
          "name": "stdout",
          "text": [
            "Epoch: 20, Loss:0.00484, learning rate:0.0001\n",
            "Epoch: 21, Loss:0.01178, learning rate:0.0001\n",
            "Epoch: 21, Loss:0.00965, learning rate:0.0001\n",
            "Epoch: 21, Loss:0.00591, learning rate:0.0001\n",
            "Epoch: 21, Loss:0.00731, learning rate:0.0001\n",
            "Epoch: 21, Loss:0.01553, learning rate:0.0001\n",
            "Epoch: 21, Loss:0.01840, learning rate:0.0001\n",
            "Epoch: 21, Loss:0.02165, learning rate:0.0001\n",
            "Epoch: 21, Loss:0.01929, learning rate:0.0001\n",
            "Epoch: 21, Loss:0.00481, learning rate:0.0001\n",
            "Epoch: 21, Loss:0.00959, learning rate:0.0001\n",
            "Epoch: 21, Loss:0.01171, learning rate:0.0001\n",
            "Epoch: 21, Loss:0.01854, learning rate:0.0001\n",
            "Epoch: 21, Loss:0.03059, learning rate:0.0001\n",
            "Epoch: 21, Loss:0.03818, learning rate:0.0001\n",
            "Epoch: 21, Loss:0.01735, learning rate:0.0001\n",
            "Epoch: 21, Loss:0.00485, learning rate:0.0001\n",
            "Epoch: 21, Loss:0.02180, learning rate:0.0001\n",
            "Epoch: 21, Loss:0.03115, learning rate:0.0001\n",
            "Epoch: 21, Loss:0.01465, learning rate:0.0001\n",
            "Epoch: 21, Loss:0.00894, learning rate:0.0001\n",
            "Epoch: 21, Loss:0.01011, learning rate:0.0001\n",
            "Epoch: 21, Loss:0.00920, learning rate:0.0001\n",
            "Epoch: 21, Loss:0.01948, learning rate:0.0001\n",
            "Epoch: 21, Loss:0.00931, learning rate:0.0001\n",
            "Epoch: 21, Loss:0.00671, learning rate:0.0001\n"
          ]
        },
        {
          "output_type": "stream",
          "name": "stderr",
          "text": [
            "\r 42%|████▏     | 21/50 [05:36<07:42, 15.93s/it]"
          ]
        },
        {
          "output_type": "stream",
          "name": "stdout",
          "text": [
            "Epoch: 21, Loss:0.00453, learning rate:0.0001\n",
            "Epoch: 22, Loss:0.01101, learning rate:0.0001\n",
            "Epoch: 22, Loss:0.00894, learning rate:0.0001\n",
            "Epoch: 22, Loss:0.00582, learning rate:0.0001\n",
            "Epoch: 22, Loss:0.00722, learning rate:0.0001\n",
            "Epoch: 22, Loss:0.01485, learning rate:0.0001\n",
            "Epoch: 22, Loss:0.01710, learning rate:0.0001\n",
            "Epoch: 22, Loss:0.01998, learning rate:0.0001\n",
            "Epoch: 22, Loss:0.01790, learning rate:0.0001\n",
            "Epoch: 22, Loss:0.00454, learning rate:0.0001\n",
            "Epoch: 22, Loss:0.00951, learning rate:0.0001\n",
            "Epoch: 22, Loss:0.01162, learning rate:0.0001\n",
            "Epoch: 22, Loss:0.01774, learning rate:0.0001\n",
            "Epoch: 22, Loss:0.02870, learning rate:0.0001\n",
            "Epoch: 22, Loss:0.03555, learning rate:0.0001\n",
            "Epoch: 22, Loss:0.01575, learning rate:0.0001\n",
            "Epoch: 22, Loss:0.00480, learning rate:0.0001\n",
            "Epoch: 22, Loss:0.02138, learning rate:0.0001\n",
            "Epoch: 22, Loss:0.02978, learning rate:0.0001\n",
            "Epoch: 22, Loss:0.01377, learning rate:0.0001\n",
            "Epoch: 22, Loss:0.00845, learning rate:0.0001\n",
            "Epoch: 22, Loss:0.00921, learning rate:0.0001\n",
            "Epoch: 22, Loss:0.00916, learning rate:0.0001\n",
            "Epoch: 22, Loss:0.01896, learning rate:0.0001\n",
            "Epoch: 22, Loss:0.00905, learning rate:0.0001\n",
            "Epoch: 22, Loss:0.00641, learning rate:0.0001\n"
          ]
        },
        {
          "output_type": "stream",
          "name": "stderr",
          "text": [
            "\r 44%|████▍     | 22/50 [05:52<07:25, 15.90s/it]"
          ]
        },
        {
          "output_type": "stream",
          "name": "stdout",
          "text": [
            "Epoch: 22, Loss:0.00451, learning rate:0.0001\n",
            "Epoch: 23, Loss:0.01021, learning rate:0.0001\n",
            "Epoch: 23, Loss:0.00835, learning rate:0.0001\n",
            "Epoch: 23, Loss:0.00604, learning rate:0.0001\n",
            "Epoch: 23, Loss:0.00718, learning rate:0.0001\n",
            "Epoch: 23, Loss:0.01447, learning rate:0.0001\n",
            "Epoch: 23, Loss:0.01630, learning rate:0.0001\n",
            "Epoch: 23, Loss:0.01868, learning rate:0.0001\n",
            "Epoch: 23, Loss:0.01650, learning rate:0.0001\n",
            "Epoch: 23, Loss:0.00430, learning rate:0.0001\n",
            "Epoch: 23, Loss:0.00962, learning rate:0.0001\n",
            "Epoch: 23, Loss:0.01135, learning rate:0.0001\n",
            "Epoch: 23, Loss:0.01694, learning rate:0.0001\n",
            "Epoch: 23, Loss:0.02681, learning rate:0.0001\n",
            "Epoch: 23, Loss:0.03362, learning rate:0.0001\n",
            "Epoch: 23, Loss:0.01461, learning rate:0.0001\n",
            "Epoch: 23, Loss:0.00489, learning rate:0.0001\n",
            "Epoch: 23, Loss:0.02159, learning rate:0.0001\n",
            "Epoch: 23, Loss:0.02902, learning rate:0.0001\n",
            "Epoch: 23, Loss:0.01298, learning rate:0.0001\n",
            "Epoch: 23, Loss:0.00755, learning rate:0.0001\n",
            "Epoch: 23, Loss:0.00848, learning rate:0.0001\n",
            "Epoch: 23, Loss:0.00894, learning rate:0.0001\n",
            "Epoch: 23, Loss:0.01902, learning rate:0.0001\n",
            "Epoch: 23, Loss:0.00912, learning rate:0.0001\n",
            "Epoch: 23, Loss:0.00611, learning rate:0.0001\n"
          ]
        },
        {
          "output_type": "stream",
          "name": "stderr",
          "text": [
            "\r 46%|████▌     | 23/50 [06:08<07:09, 15.92s/it]"
          ]
        },
        {
          "output_type": "stream",
          "name": "stdout",
          "text": [
            "Epoch: 23, Loss:0.00427, learning rate:0.0001\n",
            "Epoch: 24, Loss:0.00938, learning rate:0.0001\n",
            "Epoch: 24, Loss:0.00777, learning rate:0.0001\n",
            "Epoch: 24, Loss:0.00596, learning rate:0.0001\n",
            "Epoch: 24, Loss:0.00708, learning rate:0.0001\n",
            "Epoch: 24, Loss:0.01424, learning rate:0.0001\n",
            "Epoch: 24, Loss:0.01510, learning rate:0.0001\n",
            "Epoch: 24, Loss:0.01721, learning rate:0.0001\n",
            "Epoch: 24, Loss:0.01503, learning rate:0.0001\n",
            "Epoch: 24, Loss:0.00407, learning rate:0.0001\n",
            "Epoch: 24, Loss:0.00964, learning rate:0.0001\n",
            "Epoch: 24, Loss:0.01100, learning rate:0.0001\n",
            "Epoch: 24, Loss:0.01600, learning rate:0.0001\n",
            "Epoch: 24, Loss:0.02517, learning rate:0.0001\n",
            "Epoch: 24, Loss:0.03103, learning rate:0.0001\n",
            "Epoch: 24, Loss:0.01342, learning rate:0.0001\n",
            "Epoch: 24, Loss:0.00481, learning rate:0.0001\n",
            "Epoch: 24, Loss:0.02117, learning rate:0.0001\n",
            "Epoch: 24, Loss:0.02812, learning rate:0.0001\n",
            "Epoch: 24, Loss:0.01227, learning rate:0.0001\n",
            "Epoch: 24, Loss:0.00711, learning rate:0.0001\n",
            "Epoch: 24, Loss:0.00781, learning rate:0.0001\n",
            "Epoch: 24, Loss:0.00904, learning rate:0.0001\n",
            "Epoch: 24, Loss:0.01868, learning rate:0.0001\n",
            "Epoch: 24, Loss:0.00893, learning rate:0.0001\n",
            "Epoch: 24, Loss:0.00593, learning rate:0.0001\n"
          ]
        },
        {
          "output_type": "stream",
          "name": "stderr",
          "text": [
            "\r 48%|████▊     | 24/50 [06:24<06:53, 15.89s/it]"
          ]
        },
        {
          "output_type": "stream",
          "name": "stdout",
          "text": [
            "Epoch: 24, Loss:0.00410, learning rate:0.0001\n",
            "Epoch: 25, Loss:0.00889, learning rate:0.0001\n",
            "Epoch: 25, Loss:0.00711, learning rate:0.0001\n",
            "Epoch: 25, Loss:0.00598, learning rate:0.0001\n",
            "Epoch: 25, Loss:0.00689, learning rate:0.0001\n",
            "Epoch: 25, Loss:0.01314, learning rate:0.0001\n",
            "Epoch: 25, Loss:0.01432, learning rate:0.0001\n",
            "Epoch: 25, Loss:0.01662, learning rate:0.0001\n",
            "Epoch: 25, Loss:0.01440, learning rate:0.0001\n",
            "Epoch: 25, Loss:0.00405, learning rate:0.0001\n",
            "Epoch: 25, Loss:0.00962, learning rate:0.0001\n",
            "Epoch: 25, Loss:0.01076, learning rate:0.0001\n",
            "Epoch: 25, Loss:0.01538, learning rate:0.0001\n",
            "Epoch: 25, Loss:0.02423, learning rate:0.0001\n",
            "Epoch: 25, Loss:0.02946, learning rate:0.0001\n",
            "Epoch: 25, Loss:0.01277, learning rate:0.0001\n",
            "Epoch: 25, Loss:0.00480, learning rate:0.0001\n",
            "Epoch: 25, Loss:0.02108, learning rate:0.0001\n"
          ]
        }
      ]
    }
  ]
}