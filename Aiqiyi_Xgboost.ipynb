{
  "cells": [
    {
      "cell_type": "markdown",
      "metadata": {
        "id": "view-in-github",
        "colab_type": "text"
      },
      "source": [
        "<a href=\"https://colab.research.google.com/github/Vaincookie/FundamentalAnalysis/blob/master/Aiqiyi_Xgboost.ipynb\" target=\"_parent\"><img src=\"https://colab.research.google.com/assets/colab-badge.svg\" alt=\"Open In Colab\"/></a>"
      ]
    },
    {
      "cell_type": "code",
      "execution_count": 2,
      "metadata": {
        "id": "Do80qlErtJ7o"
      },
      "outputs": [],
      "source": [
        "import xgboost\n",
        "# First XGBoost model for Pima Indians dataset\n",
        "from numpy import loadtxt\n",
        "from xgboost import XGBClassifier \n",
        "from sklearn.model_selection import train_test_split\n",
        "from sklearn.metrics import accuracy_score\n",
        "import pandas as pd\n",
        "import json"
      ]
    },
    {
      "cell_type": "code",
      "execution_count": 3,
      "metadata": {
        "id": "6GriULKgtTLu"
      },
      "outputs": [],
      "source": [
        "# train data\n",
        "data = pd.read_csv(\"/content/drive/MyDrive/AiQiYi/normal_train_data.txt\", sep=\"\\t\")\n",
        "data[\"launch_seq\"] = data.launch_seq.apply(lambda x: json.loads(x))\n",
        "data[\"playtime_seq\"] = data.playtime_seq.apply(lambda x: json.loads(x))\n",
        "data[\"duration_prefer\"] = data.duration_prefer.apply(lambda x: json.loads(x))\n",
        "data[\"interact_prefer\"] = data.interact_prefer.apply(lambda x: json.loads(x))\n",
        "\n",
        "test_data = pd.read_csv(\"/content/drive/MyDrive/AiQiYi/normal_test_data.txt\", sep=\"\\t\")\n",
        "test_data[\"launch_seq\"] = test_data.launch_seq.apply(lambda x: json.loads(x))\n",
        "test_data[\"playtime_seq\"] = test_data.playtime_seq.apply(lambda x: json.loads(x))\n",
        "test_data[\"duration_prefer\"] = test_data.duration_prefer.apply(lambda x: json.loads(x))\n",
        "test_data[\"interact_prefer\"] = test_data.interact_prefer.apply(lambda x: json.loads(x))\n",
        "test_data['label'] = 0\n",
        "\n",
        "data = data.sample(frac=1).reset_index(drop=True)\n"
      ]
    },
    {
      "cell_type": "code",
      "execution_count": 4,
      "metadata": {
        "colab": {
          "base_uri": "https://localhost:8080/",
          "height": 548
        },
        "id": "2KZySBBeuRIf",
        "outputId": "035516fd-ceda-4287-f12c-d00d80ee5a8d"
      },
      "outputs": [
        {
          "output_type": "execute_result",
          "data": {
            "text/html": [
              "\n",
              "  <div id=\"df-dbcd5671-61eb-4e4b-b584-4ae7c4376959\">\n",
              "    <div class=\"colab-df-container\">\n",
              "      <div>\n",
              "<style scoped>\n",
              "    .dataframe tbody tr th:only-of-type {\n",
              "        vertical-align: middle;\n",
              "    }\n",
              "\n",
              "    .dataframe tbody tr th {\n",
              "        vertical-align: top;\n",
              "    }\n",
              "\n",
              "    .dataframe thead th {\n",
              "        text-align: right;\n",
              "    }\n",
              "</style>\n",
              "<table border=\"1\" class=\"dataframe\">\n",
              "  <thead>\n",
              "    <tr style=\"text-align: right;\">\n",
              "      <th></th>\n",
              "      <th>user_id</th>\n",
              "      <th>end_date</th>\n",
              "      <th>label</th>\n",
              "      <th>launch_seq</th>\n",
              "      <th>playtime_seq</th>\n",
              "      <th>duration_prefer</th>\n",
              "      <th>father_id_score</th>\n",
              "      <th>cast_id_score</th>\n",
              "      <th>tag_score</th>\n",
              "      <th>device_type</th>\n",
              "      <th>device_ram</th>\n",
              "      <th>device_rom</th>\n",
              "      <th>sex</th>\n",
              "      <th>age</th>\n",
              "      <th>education</th>\n",
              "      <th>occupation_status</th>\n",
              "      <th>territory_score</th>\n",
              "      <th>interact_prefer</th>\n",
              "    </tr>\n",
              "  </thead>\n",
              "  <tbody>\n",
              "    <tr>\n",
              "      <th>0</th>\n",
              "      <td>10160149</td>\n",
              "      <td>179</td>\n",
              "      <td>0</td>\n",
              "      <td>[0, 0, 0, 0, 0, 0, 0, 0, 0, 0, 0, 0, 0, 0, 2, ...</td>\n",
              "      <td>[0, 0, 0, 0, 0, 0, 0, 0, 0, 0, 0, 0, 0, 0, 0, ...</td>\n",
              "      <td>[0, 0, 0, 0, 0, 0, 0, 0, 0, 0, 0, 0, 0, 0, 0, 0]</td>\n",
              "      <td>0.000000</td>\n",
              "      <td>0.000000</td>\n",
              "      <td>0.000000</td>\n",
              "      <td>0.194941</td>\n",
              "      <td>-0.787657</td>\n",
              "      <td>-0.161223</td>\n",
              "      <td>-0.955310</td>\n",
              "      <td>-0.319075</td>\n",
              "      <td>-0.544392</td>\n",
              "      <td>0.746693</td>\n",
              "      <td>-0.552490</td>\n",
              "      <td>[0, 0, 0, 0, 0, 0, 0, 0, 0, 0, 0]</td>\n",
              "    </tr>\n",
              "    <tr>\n",
              "      <th>1</th>\n",
              "      <td>10523989</td>\n",
              "      <td>165</td>\n",
              "      <td>7</td>\n",
              "      <td>[1, 1, 1, 1, 1, 1, 1, 1, 1, 1, 1, 0, 1, 1, 1, ...</td>\n",
              "      <td>[0.8533, 1.0, 0.9964, 0.7637, 0.9992, 0.9995, ...</td>\n",
              "      <td>[0.0, 0.0, 0.0096, 0.0, 0.0192, 0.0385, 0.1058...</td>\n",
              "      <td>0.882198</td>\n",
              "      <td>-0.752615</td>\n",
              "      <td>0.306545</td>\n",
              "      <td>0.194941</td>\n",
              "      <td>0.208112</td>\n",
              "      <td>1.234975</td>\n",
              "      <td>-0.955310</td>\n",
              "      <td>-1.466128</td>\n",
              "      <td>-0.544392</td>\n",
              "      <td>0.746693</td>\n",
              "      <td>0.846519</td>\n",
              "      <td>[0, 0, 0, 0, 0, 0, 0, 0, 0, 0, 0]</td>\n",
              "    </tr>\n",
              "    <tr>\n",
              "      <th>2</th>\n",
              "      <td>10521189</td>\n",
              "      <td>123</td>\n",
              "      <td>2</td>\n",
              "      <td>[0, 0, 0, 0, 0, 0, 0, 0, 0, 0, 0, 0, 0, 0, 0, ...</td>\n",
              "      <td>[0, 0, 0, 0, 0, 0, 0, 0, 0, 0, 0, 0, 0, 0, 0, ...</td>\n",
              "      <td>[0.0, 0.0, 0.0, 0.0, 0.1333, 0.4, 1.0, 0.3333,...</td>\n",
              "      <td>1.116806</td>\n",
              "      <td>0.000000</td>\n",
              "      <td>1.339361</td>\n",
              "      <td>0.194941</td>\n",
              "      <td>0.279101</td>\n",
              "      <td>-0.800826</td>\n",
              "      <td>1.046779</td>\n",
              "      <td>-0.319075</td>\n",
              "      <td>-0.544392</td>\n",
              "      <td>-1.339236</td>\n",
              "      <td>1.108574</td>\n",
              "      <td>[0, 0, 0, 0, 0, 0, 0, 0, 0, 0, 0]</td>\n",
              "    </tr>\n",
              "    <tr>\n",
              "      <th>3</th>\n",
              "      <td>10525524</td>\n",
              "      <td>122</td>\n",
              "      <td>0</td>\n",
              "      <td>[0, 0, 0, 0, 0, 0, 0, 0, 0, 0, 0, 0, 0, 0, 0, ...</td>\n",
              "      <td>[0, 0, 0, 0, 0, 0, 0, 0, 0, 0, 0, 0, 0, 0, 0, ...</td>\n",
              "      <td>[0, 0, 0, 0, 0, 0, 0, 0, 0, 0, 0, 0, 0, 0, 0, 0]</td>\n",
              "      <td>0.000000</td>\n",
              "      <td>0.000000</td>\n",
              "      <td>0.000000</td>\n",
              "      <td>0.194941</td>\n",
              "      <td>-0.759837</td>\n",
              "      <td>-0.831341</td>\n",
              "      <td>1.046779</td>\n",
              "      <td>-0.319075</td>\n",
              "      <td>-0.544392</td>\n",
              "      <td>-1.339236</td>\n",
              "      <td>-0.979679</td>\n",
              "      <td>[0, 0, 0, 0, 0, 0, 0, 0, 0, 0, 0]</td>\n",
              "    </tr>\n",
              "    <tr>\n",
              "      <th>4</th>\n",
              "      <td>10204264</td>\n",
              "      <td>172</td>\n",
              "      <td>2</td>\n",
              "      <td>[0, 1, 0, 0, 0, 0, 0, 0, 0, 0, 0, 0, 0, 0, 0, ...</td>\n",
              "      <td>[0, 0, 0, 0, 0, 0, 0, 0, 0, 0, 0, 0, 0, 0, 0, ...</td>\n",
              "      <td>[0, 0, 0, 0, 0, 0, 0, 0, 0, 0, 0, 0, 0, 0, 0, 0]</td>\n",
              "      <td>0.000000</td>\n",
              "      <td>0.000000</td>\n",
              "      <td>0.000000</td>\n",
              "      <td>0.194941</td>\n",
              "      <td>1.100754</td>\n",
              "      <td>4.097916</td>\n",
              "      <td>-0.955310</td>\n",
              "      <td>0.827978</td>\n",
              "      <td>2.056843</td>\n",
              "      <td>0.746693</td>\n",
              "      <td>-2.760086</td>\n",
              "      <td>[0, 0, 0, 0, 0, 0, 0, 0, 0, 0, 0]</td>\n",
              "    </tr>\n",
              "  </tbody>\n",
              "</table>\n",
              "</div>\n",
              "      <button class=\"colab-df-convert\" onclick=\"convertToInteractive('df-dbcd5671-61eb-4e4b-b584-4ae7c4376959')\"\n",
              "              title=\"Convert this dataframe to an interactive table.\"\n",
              "              style=\"display:none;\">\n",
              "        \n",
              "  <svg xmlns=\"http://www.w3.org/2000/svg\" height=\"24px\"viewBox=\"0 0 24 24\"\n",
              "       width=\"24px\">\n",
              "    <path d=\"M0 0h24v24H0V0z\" fill=\"none\"/>\n",
              "    <path d=\"M18.56 5.44l.94 2.06.94-2.06 2.06-.94-2.06-.94-.94-2.06-.94 2.06-2.06.94zm-11 1L8.5 8.5l.94-2.06 2.06-.94-2.06-.94L8.5 2.5l-.94 2.06-2.06.94zm10 10l.94 2.06.94-2.06 2.06-.94-2.06-.94-.94-2.06-.94 2.06-2.06.94z\"/><path d=\"M17.41 7.96l-1.37-1.37c-.4-.4-.92-.59-1.43-.59-.52 0-1.04.2-1.43.59L10.3 9.45l-7.72 7.72c-.78.78-.78 2.05 0 2.83L4 21.41c.39.39.9.59 1.41.59.51 0 1.02-.2 1.41-.59l7.78-7.78 2.81-2.81c.8-.78.8-2.07 0-2.86zM5.41 20L4 18.59l7.72-7.72 1.47 1.35L5.41 20z\"/>\n",
              "  </svg>\n",
              "      </button>\n",
              "      \n",
              "  <style>\n",
              "    .colab-df-container {\n",
              "      display:flex;\n",
              "      flex-wrap:wrap;\n",
              "      gap: 12px;\n",
              "    }\n",
              "\n",
              "    .colab-df-convert {\n",
              "      background-color: #E8F0FE;\n",
              "      border: none;\n",
              "      border-radius: 50%;\n",
              "      cursor: pointer;\n",
              "      display: none;\n",
              "      fill: #1967D2;\n",
              "      height: 32px;\n",
              "      padding: 0 0 0 0;\n",
              "      width: 32px;\n",
              "    }\n",
              "\n",
              "    .colab-df-convert:hover {\n",
              "      background-color: #E2EBFA;\n",
              "      box-shadow: 0px 1px 2px rgba(60, 64, 67, 0.3), 0px 1px 3px 1px rgba(60, 64, 67, 0.15);\n",
              "      fill: #174EA6;\n",
              "    }\n",
              "\n",
              "    [theme=dark] .colab-df-convert {\n",
              "      background-color: #3B4455;\n",
              "      fill: #D2E3FC;\n",
              "    }\n",
              "\n",
              "    [theme=dark] .colab-df-convert:hover {\n",
              "      background-color: #434B5C;\n",
              "      box-shadow: 0px 1px 3px 1px rgba(0, 0, 0, 0.15);\n",
              "      filter: drop-shadow(0px 1px 2px rgba(0, 0, 0, 0.3));\n",
              "      fill: #FFFFFF;\n",
              "    }\n",
              "  </style>\n",
              "\n",
              "      <script>\n",
              "        const buttonEl =\n",
              "          document.querySelector('#df-dbcd5671-61eb-4e4b-b584-4ae7c4376959 button.colab-df-convert');\n",
              "        buttonEl.style.display =\n",
              "          google.colab.kernel.accessAllowed ? 'block' : 'none';\n",
              "\n",
              "        async function convertToInteractive(key) {\n",
              "          const element = document.querySelector('#df-dbcd5671-61eb-4e4b-b584-4ae7c4376959');\n",
              "          const dataTable =\n",
              "            await google.colab.kernel.invokeFunction('convertToInteractive',\n",
              "                                                     [key], {});\n",
              "          if (!dataTable) return;\n",
              "\n",
              "          const docLinkHtml = 'Like what you see? Visit the ' +\n",
              "            '<a target=\"_blank\" href=https://colab.research.google.com/notebooks/data_table.ipynb>data table notebook</a>'\n",
              "            + ' to learn more about interactive tables.';\n",
              "          element.innerHTML = '';\n",
              "          dataTable['output_type'] = 'display_data';\n",
              "          await google.colab.output.renderOutput(dataTable, element);\n",
              "          const docLink = document.createElement('div');\n",
              "          docLink.innerHTML = docLinkHtml;\n",
              "          element.appendChild(docLink);\n",
              "        }\n",
              "      </script>\n",
              "    </div>\n",
              "  </div>\n",
              "  "
            ],
            "text/plain": [
              "    user_id  end_date  ...  territory_score                    interact_prefer\n",
              "0  10160149       179  ...        -0.552490  [0, 0, 0, 0, 0, 0, 0, 0, 0, 0, 0]\n",
              "1  10523989       165  ...         0.846519  [0, 0, 0, 0, 0, 0, 0, 0, 0, 0, 0]\n",
              "2  10521189       123  ...         1.108574  [0, 0, 0, 0, 0, 0, 0, 0, 0, 0, 0]\n",
              "3  10525524       122  ...        -0.979679  [0, 0, 0, 0, 0, 0, 0, 0, 0, 0, 0]\n",
              "4  10204264       172  ...        -2.760086  [0, 0, 0, 0, 0, 0, 0, 0, 0, 0, 0]\n",
              "\n",
              "[5 rows x 18 columns]"
            ]
          },
          "metadata": {},
          "execution_count": 4
        }
      ],
      "source": [
        "data.head()"
      ]
    },
    {
      "cell_type": "code",
      "execution_count": 5,
      "metadata": {
        "id": "tcJTsdjHvv20"
      },
      "outputs": [],
      "source": [
        "data = data[['label','user_id', 'end_date', 'launch_seq', 'playtime_seq',\n",
        "       'duration_prefer', 'father_id_score', 'cast_id_score', 'tag_score',\n",
        "       'device_type', 'device_ram', 'device_rom', 'sex', 'age', 'education',\n",
        "       'occupation_status', 'territory_score', 'interact_prefer']] \n",
        "\n",
        "test_data = test_data[['label','user_id', 'end_date', 'launch_seq', 'playtime_seq',\n",
        "       'duration_prefer', 'father_id_score', 'cast_id_score', 'tag_score',\n",
        "       'device_type', 'device_ram', 'device_rom', 'sex', 'age', 'education',\n",
        "       'occupation_status', 'territory_score', 'interact_prefer']] \n"
      ]
    },
    {
      "cell_type": "code",
      "execution_count": 6,
      "metadata": {
        "colab": {
          "base_uri": "https://localhost:8080/"
        },
        "id": "-t434E5X9xYJ",
        "outputId": "0e1826df-b4e3-464c-fccb-5afb100bf760"
      },
      "outputs": [
        {
          "output_type": "stream",
          "name": "stdout",
          "text": [
            "Index(['label', 'user_id', 'end_date', 'launch_seq', 'playtime_seq',\n",
            "       'duration_prefer', 'father_id_score', 'cast_id_score', 'tag_score',\n",
            "       'device_type', 'device_ram', 'device_rom', 'sex', 'age', 'education',\n",
            "       'occupation_status', 'territory_score', 'interact_prefer'],\n",
            "      dtype='object')\n",
            "Index(['label', 'user_id', 'end_date', 'launch_seq', 'playtime_seq',\n",
            "       'duration_prefer', 'father_id_score', 'cast_id_score', 'tag_score',\n",
            "       'device_type', 'device_ram', 'device_rom', 'sex', 'age', 'education',\n",
            "       'occupation_status', 'territory_score', 'interact_prefer'],\n",
            "      dtype='object')\n"
          ]
        }
      ],
      "source": [
        "df1=data['launch_seq'].apply(pd.Series,index=['ls1','ls2','ls3','ls4','ls5','ls6','ls7','ls8','ls9','ls10','ls11','ls12','ls13','ls14','ls15','ls16','ls17','ls18','ls19','ls20','ls21','ls22','ls23','ls24','ls25','ls26','ls27','ls28','ls29','ls30','ls31','ls32'])\n",
        "df2=data['playtime_seq'].apply(pd.Series,index=['ps1','ps2','ps3','ps4','ps5','ps6','ps7','ps8','ps9','ps10','ps11','ps12','ps13','ps14','ps15','ps16','ps17','ps18','ps19','ps20','ps21','ps22','ps23','ps24','ps25','ps26','ps27','ps28','ps29','ps30','ps31','ps32'\n",
        "])\n",
        "df3=data['duration_prefer'].apply(pd.Series,index=['dp1','dp2','dp3','dp4','dp5','dp6','dp7','dp8','dp9','dp10','dp11','dp12','dp13','dp14','dp15','dp16'])\n",
        "df4=data['interact_prefer'].apply(pd.Series,index=['ip1','ip2','ip3','ip4','ip5','ip6','ip7','ip8','ip9','ip10','ip11'])\n",
        "data = pd.concat([data,df1],axis=1,join='outer')\n",
        "data = pd.concat([data,df2],axis=1,join='outer')\n",
        "data = pd.concat([data,df3],axis=1,join='outer')\n",
        "data = pd.concat([data,df4],axis=1,join='outer')\n",
        "data = data.drop(labels=['launch_seq', 'playtime_seq', 'duration_prefer', 'interact_prefer'], axis=1)"
      ]
    },
    {
      "cell_type": "code",
      "source": [
        "data.to_csv('/content/drive/MyDrive/AiQiYi/onehot_train.csv')"
      ],
      "metadata": {
        "id": "FPT7dFIQZuZ3"
      },
      "execution_count": 18,
      "outputs": []
    },
    {
      "cell_type": "code",
      "source": [
        "print(len(data.columns))\n",
        "X_train = data.iloc[:,1:110]\n",
        "y_train = data.iloc[:,0]"
      ],
      "metadata": {
        "colab": {
          "base_uri": "https://localhost:8080/"
        },
        "id": "Vk5E_4aOVJgZ",
        "outputId": "5ed5b717-e4b4-4b33-e0c3-57876cebe73c"
      },
      "execution_count": 19,
      "outputs": [
        {
          "output_type": "stream",
          "name": "stdout",
          "text": [
            "105\n"
          ]
        }
      ]
    },
    {
      "cell_type": "code",
      "execution_count": 20,
      "metadata": {
        "colab": {
          "base_uri": "https://localhost:8080/"
        },
        "id": "UM38KsrGt0iO",
        "outputId": "0d829a33-97e3-4d3f-ea17-bdc6783441b2"
      },
      "outputs": [
        {
          "output_type": "execute_result",
          "data": {
            "text/plain": [
              "XGBClassifier(objective='multi:softprob')"
            ]
          },
          "metadata": {},
          "execution_count": 20
        }
      ],
      "source": [
        "\n",
        "# fit model no training data\n",
        "model = XGBClassifier()\n",
        "model.fit(X_train, y_train)\n",
        "# make predictions for test data\n"
      ]
    },
    {
      "cell_type": "code",
      "source": [
        "df1=test_data['launch_seq'].apply(pd.Series,index=['ls1','ls2','ls3','ls4','ls5','ls6','ls7','ls8','ls9','ls10','ls11','ls12','ls13','ls14','ls15','ls16','ls17','ls18','ls19','ls20','ls21','ls22','ls23','ls24','ls25','ls26','ls27','ls28','ls29','ls30','ls31','ls32'])\n",
        "print(data.columns)\n",
        "df2=test_data['playtime_seq'].apply(pd.Series,index=['ps1','ps2','ps3','ps4','ps5','ps6','ps7','ps8','ps9','ps10','ps11','ps12','ps13','ps14','ps15','ps16','ps17','ps18','ps19','ps20','ps21','ps22','ps23','ps24','ps25','ps26','ps27','ps28','ps29','ps30','ps31','ps32'\n",
        "])\n",
        "df3=test_data['duration_prefer'].apply(pd.Series,index=['dp1','dp2','dp3','dp4','dp5','dp6','dp7','dp8','dp9','dp10','dp11','dp12','dp13','dp14','dp15','dp16'])\n",
        "df4=test_data['interact_prefer'].apply(pd.Series,index=['ip1','ip2','ip3','ip4','ip5','ip6','ip7','ip8','ip9','ip10','ip11'])\n",
        "print(data.columns)\n",
        "test_data = pd.concat([test_data,df1],axis=1,join='outer')\n",
        "test_data = pd.concat([test_data,df2],axis=1,join='outer')\n",
        "test_data = pd.concat([test_data,df3],axis=1,join='outer')\n",
        "test_data = pd.concat([test_data,df4],axis=1,join='outer')\n",
        "test_data = test_data.drop(labels=['launch_seq', 'playtime_seq', 'duration_prefer', 'interact_prefer'], axis=1)\n",
        "test_data.to_csv('/content/drive/MyDrive/AiQiYi/onehot_test.csv')"
      ],
      "metadata": {
        "colab": {
          "base_uri": "https://localhost:8080/"
        },
        "id": "gQFJ2xV9aeJ8",
        "outputId": "50ca9066-9aba-4472-d6fd-4b944c40229a"
      },
      "execution_count": 22,
      "outputs": [
        {
          "output_type": "stream",
          "name": "stdout",
          "text": [
            "Index(['label', 'user_id', 'end_date', 'father_id_score', 'cast_id_score',\n",
            "       'tag_score', 'device_type', 'device_ram', 'device_rom', 'sex',\n",
            "       ...\n",
            "       'ip2', 'ip3', 'ip4', 'ip5', 'ip6', 'ip7', 'ip8', 'ip9', 'ip10', 'ip11'],\n",
            "      dtype='object', length=105)\n",
            "Index(['label', 'user_id', 'end_date', 'father_id_score', 'cast_id_score',\n",
            "       'tag_score', 'device_type', 'device_ram', 'device_rom', 'sex',\n",
            "       ...\n",
            "       'ip2', 'ip3', 'ip4', 'ip5', 'ip6', 'ip7', 'ip8', 'ip9', 'ip10', 'ip11'],\n",
            "      dtype='object', length=105)\n"
          ]
        }
      ]
    },
    {
      "cell_type": "code",
      "source": [
        "X_test = test_data.iloc[:,1:110]"
      ],
      "metadata": {
        "id": "PMA2XMFbbM78"
      },
      "execution_count": 23,
      "outputs": []
    },
    {
      "cell_type": "code",
      "source": [
        "y_pred = model.predict(X_test)\n",
        "predictions = [round(value) for value in y_pred]\n",
        "# evaluate predictions\n",
        "# accuracy = accuracy_score(y_test, predictions)\n",
        "# print(\"Accuracy: %.2f%%\" % (accuracy * 100.0))"
      ],
      "metadata": {
        "id": "Qdni6UcmZnDr"
      },
      "execution_count": 24,
      "outputs": []
    },
    {
      "cell_type": "code",
      "execution_count": 25,
      "metadata": {
        "id": "jg00EFCF0mqQ"
      },
      "outputs": [],
      "source": [
        "output = model.predict(X_test)"
      ]
    },
    {
      "cell_type": "code",
      "execution_count": 26,
      "metadata": {
        "colab": {
          "base_uri": "https://localhost:8080/"
        },
        "id": "K_ow3Ruf1Iup",
        "outputId": "139de727-7194-4bc0-a7fb-52130424b2c1"
      },
      "outputs": [
        {
          "output_type": "stream",
          "name": "stdout",
          "text": [
            "[0 0 0 ... 0 0 0]\n"
          ]
        }
      ],
      "source": [
        "print(output)\n",
        "prediction = output\n",
        "test_data[\"prediction\"] = prediction\n",
        "test_data = test_data[[\"user_id\", \"prediction\"]]"
      ]
    },
    {
      "cell_type": "code",
      "execution_count": 27,
      "metadata": {
        "id": "zMvVPyEe100T"
      },
      "outputs": [],
      "source": [
        "test_data.to_csv(\"baseline_submission.csv\", index=False, header=False, float_format=\"%.2f\")"
      ]
    }
  ],
  "metadata": {
    "accelerator": "GPU",
    "colab": {
      "background_execution": "on",
      "name": "Aiqiyi-Xgboost.ipynb",
      "provenance": [],
      "mount_file_id": "1on1aDx1sImus6bWvVrnmLPwFzxVfHWkj",
      "authorship_tag": "ABX9TyNUh4qR+q7cWC/cYMOpGhXq",
      "include_colab_link": true
    },
    "kernelspec": {
      "display_name": "Python 3",
      "name": "python3"
    },
    "language_info": {
      "name": "python"
    }
  },
  "nbformat": 4,
  "nbformat_minor": 0
}